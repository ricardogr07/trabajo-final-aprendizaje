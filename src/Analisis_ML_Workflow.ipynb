{
  "cells": [
    {
      "cell_type": "markdown",
      "id": "6b98fed7",
      "metadata": {
        "colab_type": "text",
        "id": "view-in-github"
      },
      "source": [
        "<a href=\"https://colab.research.google.com/github/ricardogr07/trabajo-final-aprendizaje/blob/main/src/Analisis_ML_Workflow.ipynb\" target=\"_parent\"><img src=\"https://colab.research.google.com/assets/colab-badge.svg\" alt=\"Open In Colab\"/></a>"
      ]
    },
    {
      "cell_type": "markdown",
      "id": "7b4a5e9c",
      "metadata": {
        "id": "7b4a5e9c"
      },
      "source": [
        "# Análisis de dataset"
      ]
    },
    {
      "cell_type": "markdown",
      "id": "5ad4cb13",
      "metadata": {
        "id": "5ad4cb13"
      },
      "source": [
        "## Importar librerías"
      ]
    },
    {
      "cell_type": "code",
      "execution_count": null,
      "id": "6f4379ad",
      "metadata": {
        "colab": {
          "base_uri": "https://localhost:8080/"
        },
        "id": "6f4379ad",
        "outputId": "bfa18ca4-1d1a-4dd4-ed80-fef929ec1d39"
      },
      "outputs": [
        {
          "name": "stdout",
          "output_type": "stream",
          "text": [
            "Requirement already satisfied: pandas in /usr/local/lib/python3.10/dist-packages (2.1.4)\n",
            "Requirement already satisfied: numpy in /usr/local/lib/python3.10/dist-packages (1.26.4)\n",
            "Requirement already satisfied: ucimlrepo in /usr/local/lib/python3.10/dist-packages (0.0.7)\n",
            "Requirement already satisfied: python-dateutil>=2.8.2 in /usr/local/lib/python3.10/dist-packages (from pandas) (2.8.2)\n",
            "Requirement already satisfied: pytz>=2020.1 in /usr/local/lib/python3.10/dist-packages (from pandas) (2024.2)\n",
            "Requirement already satisfied: tzdata>=2022.1 in /usr/local/lib/python3.10/dist-packages (from pandas) (2024.1)\n",
            "Requirement already satisfied: certifi>=2020.12.5 in /usr/local/lib/python3.10/dist-packages (from ucimlrepo) (2024.8.30)\n",
            "Requirement already satisfied: six>=1.5 in /usr/local/lib/python3.10/dist-packages (from python-dateutil>=2.8.2->pandas) (1.16.0)\n",
            "fatal: destination path 'trabajo-final-aprendizaje' already exists and is not an empty directory.\n",
            "fatal: not a git repository (or any of the parent directories): .git\n",
            "/content/trabajo-final-aprendizaje/src\n"
          ]
        }
      ],
      "source": [
        "# Correr esta celda unicamente si se hace desde Colab\n",
        "%pip install pandas numpy\n",
        "\n",
        "!git clone https://github.com/ricardogr07/trabajo-final-aprendizaje.git\n",
        "%cd trabajo-final-aprendizaje/src\n",
        "from evaluation_functions import *"
      ]
    },
    {
      "cell_type": "code",
      "execution_count": 11,
      "id": "113129fb",
      "metadata": {
        "id": "113129fb"
      },
      "outputs": [],
      "source": [
        "# Manipulación y análisis de datos\n",
        "import pandas as pd\n",
        "import numpy as np\n",
        "\n",
        "\n",
        "# Visualización de datos\n",
        "import matplotlib.pyplot as plt\n",
        "import matplotlib.colors as mcolors\n",
        "import seaborn as sns"
      ]
    },
    {
      "cell_type": "markdown",
      "id": "06b5d69b",
      "metadata": {
        "id": "06b5d69b"
      },
      "source": [
        "## Carga y Preprocesamiento de Datos"
      ]
    },
    {
      "cell_type": "markdown",
      "id": "F4FGhHNfI1LH",
      "metadata": {
        "id": "F4FGhHNfI1LH"
      },
      "source": [
        "En esta sección se carga el conjunto de datos de los archivos .data que contiene información sobre enfermedades cardíacas, disponible en el repositorio de UCI Machine Learning. Las columnas del conjunto de datos se especifican manualmente ya que el archivo no tiene encabezados. El dataset contiene información sobre varios factores de riesgo y el objetivo es predecir la presencia de una enfermedad cardíaca (`target`)."
      ]
    },
    {
      "cell_type": "markdown",
      "id": "066332bd",
      "metadata": {
        "id": "066332bd"
      },
      "source": [
        "### Carga del dataset"
      ]
    },
    {
      "cell_type": "code",
      "execution_count": 12,
      "id": "a6418693",
      "metadata": {
        "colab": {
          "base_uri": "https://localhost:8080/"
        },
        "id": "a6418693",
        "outputId": "3176e69f-b33e-49bd-84e0-24498f29d9a1"
      },
      "outputs": [],
      "source": [
        "cleveland_data_file_path = '../dataset/cleveland.data'\n",
        "hungarian_data_file_path = '../dataset/hungarian.data'\n",
        "switzerland_data_file_path = '../dataset/switzerland.data'\n",
        "va_data_file_path = '../dataset/va.data'\n",
        "\n",
        "column_names = ['age', 'sex', 'cp', 'trestbps', 'chol', 'fbs', 'restecg', 'thalach', 'exang', 'oldpeak', 'slope', 'ca', 'thal', 'target']\n",
        "\n",
        "# Cargar todos los datos y generar un solo dataframe\n",
        "try:\n",
        "    data_cleveland = pd.read_csv(cleveland_data_file_path, names = column_names)\n",
        "    data_hungarian = pd.read_csv(hungarian_data_file_path, names = column_names)\n",
        "    data_switzerland = pd.read_csv(switzerland_data_file_path, names = column_names)\n",
        "    data_va = pd.read_csv(va_data_file_path, names = column_names)\n",
        "\n",
        "    # Agregar location como parte de las variables, pues se usan las 4 bases de datos\n",
        "    data_cleveland['location'] = 0\n",
        "    data_hungarian['location'] = 1\n",
        "    data_switzerland['location'] = 2\n",
        "    data_va['location'] = 3\n",
        "\n",
        "    df = pd.concat([data_cleveland, data_hungarian, data_switzerland, data_va], ignore_index=True)\n",
        "\n",
        "except Exception as e:\n",
        "    print(f\"Error reading the file: {e}\")\n"
      ]
    },
    {
      "cell_type": "markdown",
      "id": "b0829e27",
      "metadata": {
        "id": "b0829e27"
      },
      "source": [
        "### Exploración inicial del dataset"
      ]
    },
    {
      "cell_type": "markdown",
      "id": "67f3369f",
      "metadata": {},
      "source": [
        "En esta sección se realiza una inspección de la estructura del conjunto de datos para entender el tipo de variables con las que estamos trabajando. Se revisa la cantidad de entradas, los nombres de las columnas, los tipos de datos, y si hay valores faltantes. Es importante notar que algunas columnas tienen el tipo `object`, lo que indica que pueden contener valores categóricos o valores que no han sido correctamente identificados como numéricos."
      ]
    },
    {
      "cell_type": "code",
      "execution_count": 13,
      "id": "767da08d",
      "metadata": {
        "id": "767da08d"
      },
      "outputs": [
        {
          "name": "stdout",
          "output_type": "stream",
          "text": [
            "<class 'pandas.core.frame.DataFrame'>\n",
            "RangeIndex: 920 entries, 0 to 919\n",
            "Data columns (total 15 columns):\n",
            " #   Column    Non-Null Count  Dtype  \n",
            "---  ------    --------------  -----  \n",
            " 0   age       920 non-null    float64\n",
            " 1   sex       920 non-null    float64\n",
            " 2   cp        920 non-null    float64\n",
            " 3   trestbps  920 non-null    object \n",
            " 4   chol      920 non-null    object \n",
            " 5   fbs       920 non-null    object \n",
            " 6   restecg   920 non-null    object \n",
            " 7   thalach   920 non-null    object \n",
            " 8   exang     920 non-null    object \n",
            " 9   oldpeak   920 non-null    object \n",
            " 10  slope     920 non-null    object \n",
            " 11  ca        920 non-null    object \n",
            " 12  thal      920 non-null    object \n",
            " 13  target    920 non-null    int64  \n",
            " 14  location  920 non-null    int64  \n",
            "dtypes: float64(3), int64(2), object(10)\n",
            "memory usage: 107.9+ KB\n"
          ]
        }
      ],
      "source": [
        "df.info()"
      ]
    },
    {
      "cell_type": "code",
      "execution_count": 14,
      "id": "3d7fdbf9",
      "metadata": {},
      "outputs": [
        {
          "name": "stdout",
          "output_type": "stream",
          "text": [
            "Valores únicos en la columna 'age':\n",
            "[63. 67. 37. 41. 56. 62. 57. 53. 44. 52. 48. 54. 49. 64. 58. 60. 50. 66.\n",
            " 43. 40. 69. 59. 42. 55. 61. 65. 71. 51. 46. 45. 39. 68. 47. 34. 35. 29.\n",
            " 70. 77. 38. 74. 76. 28. 30. 31. 32. 33. 36. 72. 73. 75.]\n",
            "\n",
            "\n",
            "Valores únicos en la columna 'sex':\n",
            "[1. 0.]\n",
            "\n",
            "\n",
            "Valores únicos en la columna 'cp':\n",
            "[1. 4. 3. 2.]\n",
            "\n",
            "\n",
            "Valores únicos en la columna 'trestbps':\n",
            "[145.0 160.0 120.0 130.0 140.0 172.0 150.0 110.0 132.0 117.0 135.0 112.0\n",
            " 105.0 124.0 125.0 142.0 128.0 170.0 155.0 104.0 180.0 138.0 108.0 134.0\n",
            " 122.0 115.0 118.0 100.0 200.0 94.0 165.0 102.0 152.0 101.0 126.0 174.0\n",
            " 148.0 178.0 158.0 192.0 129.0 144.0 123.0 136.0 146.0 106.0 156.0 154.0\n",
            " 114.0 164.0 '130' '120' '140' '170' '100' '105' '110' '125' '150' '98'\n",
            " '112' '145' '190' '160' '115' '142' '180' '132' '135' '?' '108' '124'\n",
            " '113' '122' '92' '118' '106' '200' '138' '136' '128' '155' '95' '165'\n",
            " '80' '185' '126' '152' '116' '0' '144' '154' '104' '134' '178' '146'\n",
            " '158' '102' '96' '172' '156' '114' '127']\n",
            "\n",
            "\n",
            "Valores únicos en la columna 'chol':\n",
            "[233.0 286.0 229.0 250.0 204.0 236.0 268.0 354.0 254.0 203.0 192.0 294.0\n",
            " 256.0 263.0 199.0 168.0 239.0 275.0 266.0 211.0 283.0 284.0 224.0 206.0\n",
            " 219.0 340.0 226.0 247.0 167.0 230.0 335.0 234.0 177.0 276.0 353.0 243.0\n",
            " 225.0 302.0 212.0 330.0 175.0 417.0 197.0 198.0 290.0 253.0 172.0 273.0\n",
            " 213.0 305.0 216.0 304.0 188.0 282.0 185.0 232.0 326.0 231.0 269.0 267.0\n",
            " 248.0 360.0 258.0 308.0 245.0 270.0 208.0 264.0 321.0 274.0 325.0 235.0\n",
            " 257.0 164.0 141.0 252.0 255.0 201.0 222.0 260.0 182.0 303.0 265.0 309.0\n",
            " 307.0 249.0 186.0 341.0 183.0 407.0 217.0 288.0 220.0 209.0 227.0 261.0\n",
            " 174.0 281.0 221.0 205.0 240.0 289.0 318.0 298.0 564.0 246.0 322.0 299.0\n",
            " 300.0 293.0 277.0 214.0 207.0 223.0 160.0 394.0 184.0 315.0 409.0 244.0\n",
            " 195.0 196.0 126.0 313.0 259.0 200.0 262.0 215.0 228.0 193.0 271.0 210.0\n",
            " 327.0 149.0 295.0 306.0 178.0 237.0 218.0 242.0 319.0 166.0 180.0 311.0\n",
            " 278.0 342.0 169.0 187.0 157.0 176.0 241.0 131.0 '132' '243' '?' '237'\n",
            " '219' '198' '225' '254' '298' '161' '214' '220' '160' '167' '308' '264'\n",
            " '166' '340' '209' '260' '211' '173' '283' '194' '223' '315' '275' '297'\n",
            " '292' '182' '200' '204' '241' '339' '147' '273' '307' '289' '215' '281'\n",
            " '250' '184' '245' '291' '295' '269' '196' '268' '228' '358' '201' '249'\n",
            " '266' '186' '207' '218' '412' '224' '238' '230' '163' '240' '280' '257'\n",
            " '263' '276' '284' '195' '227' '253' '187' '202' '328' '168' '216' '129'\n",
            " '190' '188' '179' '210' '272' '180' '100' '259' '468' '274' '320' '221'\n",
            " '309' '312' '171' '208' '246' '305' '217' '365' '344' '394' '256' '326'\n",
            " '277' '270' '229' '85' '347' '251' '222' '287' '318' '213' '294' '193'\n",
            " '271' '156' '267' '282' '117' '466' '247' '226' '265' '206' '288' '303'\n",
            " '338' '248' '306' '529' '392' '231' '329' '355' '233' '242' '603' '255'\n",
            " '172' '175' '290' '341' '234' '342' '404' '518' '285' '279' '388' '164'\n",
            " '336' '491' '205' '212' '331' '393' 0 '0' '236' '177' '203' '153' '316'\n",
            " '311' '252' '458' '384' '258' '235' '349' '142' '197' '192' '261' '181'\n",
            " '310' '232' '170' '369' '244' '165' '337' '300' '333' '139' '385']\n",
            "\n",
            "\n",
            "Valores únicos en la columna 'fbs':\n",
            "[1.0 0.0 '0' '?' '1']\n",
            "\n",
            "\n",
            "Valores únicos en la columna 'restecg':\n",
            "[2.0 0.0 1.0 '2' '0' '1' '?']\n",
            "\n",
            "\n",
            "Valores únicos en la columna 'thalach':\n",
            "[150.0 108.0 129.0 187.0 172.0 178.0 160.0 163.0 147.0 155.0 148.0 153.0\n",
            " 142.0 173.0 162.0 174.0 168.0 139.0 171.0 144.0 132.0 158.0 114.0 151.0\n",
            " 161.0 179.0 120.0 112.0 137.0 157.0 169.0 165.0 123.0 128.0 152.0 140.0\n",
            " 188.0 109.0 125.0 131.0 170.0 113.0 99.0 177.0 141.0 180.0 111.0 143.0\n",
            " 182.0 156.0 115.0 149.0 145.0 146.0 175.0 186.0 185.0 159.0 130.0 190.0\n",
            " 136.0 97.0 127.0 154.0 133.0 126.0 202.0 103.0 166.0 164.0 184.0 124.0\n",
            " 122.0 96.0 138.0 88.0 105.0 194.0 195.0 106.0 167.0 95.0 192.0 117.0\n",
            " 121.0 116.0 71.0 118.0 181.0 134.0 90.0 '185' '160' '170' '150' '165'\n",
            " '184' '155' '190' '168' '180' '178' '172' '130' '142' '98' '158' '129'\n",
            " '146' '145' '120' '106' '132' '140' '138' '167' '188' '144' '137' '136'\n",
            " '152' '175' '176' '118' '154' '115' '135' '122' '110' '90' '116' '174'\n",
            " '125' '?' '148' '100' '164' '139' '127' '162' '112' '134' '114' '128'\n",
            " '126' '124' '153' '166' '103' '156' '87' '102' '92' '99' '121' '91' '108'\n",
            " '96' '82' '105' '143' '119' '94' '179' '133' '113' '149' '104' '163' '60'\n",
            " '95' '141' '83' '97' '131' '182' '63' '70' '77' '117' '123' '72' '78'\n",
            " '109' '86' '93' '67' '157' '84' '111' '80' '107' '161' '69' '88' '73'\n",
            " '159' '151']\n",
            "\n",
            "\n",
            "Valores únicos en la columna 'exang':\n",
            "[0.0 1.0 '0' '1' '?']\n",
            "\n",
            "\n",
            "Valores únicos en la columna 'oldpeak':\n",
            "[2.3 1.5 2.6 3.5 1.4 0.8 3.6 0.6 3.1 0.4 1.3 0.0 0.5 1.6 1.0 1.2 0.2 1.8\n",
            " 3.2 2.4 2.0 2.5 2.2 2.8 3.0 3.4 6.2 4.0 5.6 2.9 0.1 2.1 1.9 4.2 0.9 1.1\n",
            " 3.8 0.7 0.3 4.4 5.0 '.7' '.2' '?' '1' '2.8' '0' '-1.1' '1.6' '-1.5' '1.5'\n",
            " '2' '.5' '-.1' '-2.6' '2.1' '-.7' '2.2' '3' '.1' '.3' '-2' '-1' '1.8'\n",
            " '1.4' '2.6' '.9' '2.4' '1.1' '.4' '2.5' '1.7' '-.8' '-.5' '-.9' '3.7'\n",
            " '1.3' '-0.5' '0.5' '4' '3.5' '0.8']\n",
            "\n",
            "\n",
            "Valores únicos en la columna 'slope':\n",
            "[3.0 2.0 1.0 '?' '2' '1' '3']\n",
            "\n",
            "\n",
            "Valores únicos en la columna 'ca':\n",
            "['0.0' '3.0' '2.0' '1.0' '?' '0' '1' '2']\n",
            "\n",
            "\n",
            "Valores únicos en la columna 'thal':\n",
            "['6.0' '3.0' '7.0' '?' '6' '3' '7']\n",
            "\n",
            "\n",
            "Valores únicos en la columna 'target':\n",
            "[0 2 1 3 4]\n",
            "\n",
            "\n",
            "Valores únicos en la columna 'location':\n",
            "[0 1 2 3]\n",
            "\n",
            "\n"
          ]
        }
      ],
      "source": [
        "for columna in df.columns:\n",
        "    valores_unicos = df[columna].unique()\n",
        "    print(f\"Valores únicos en la columna '{columna}':\")\n",
        "    print(valores_unicos)\n",
        "    print('\\n')"
      ]
    },
    {
      "cell_type": "markdown",
      "id": "65d42793",
      "metadata": {},
      "source": [
        "Al examinar los valores únicos presentes en las columnas se descubre que existen múltiples columnas que contienen el valor '?' en lugar de un valor numérico. Este es un indicador de datos faltantes o incorrectos que deberán ser manejados antes de continuar con el análisis.\n",
        "Adicionalmente, hay columnas que tienen como valor un `string` en lugar de un `int` o `float`, por lo que va a ser necesario estandarizar estos valores."
      ]
    },
    {
      "cell_type": "markdown",
      "id": "1664945e",
      "metadata": {
        "id": "1664945e"
      },
      "source": [
        "### Preprocesar Datos"
      ]
    },
    {
      "cell_type": "markdown",
      "id": "f6f4010e",
      "metadata": {},
      "source": [
        "En esta sección, se manejan los valores faltantes representados por el símbolo `'?'`:\n",
        "\n",
        "* Primero, se reemplazan estos valores por `NaN` (not a number) para que pandas pueda identificarlos como datos faltantes. \n",
        "\n",
        "* Luego, se convierten las columnas afectadas en tipo `float`, ya que originalmente estaban mal interpretadas como `object`. \n",
        "\n",
        "* Posteriormente, se eliminan las filas que contienen valores nulos. \n",
        "\n",
        "* Finalmente, se revisan estadísticas descriptivas del dataset limpio."
      ]
    },
    {
      "cell_type": "code",
      "execution_count": 15,
      "id": "608adefe",
      "metadata": {},
      "outputs": [
        {
          "name": "stdout",
          "output_type": "stream",
          "text": [
            "<class 'pandas.core.frame.DataFrame'>\n",
            "RangeIndex: 920 entries, 0 to 919\n",
            "Data columns (total 15 columns):\n",
            " #   Column    Non-Null Count  Dtype  \n",
            "---  ------    --------------  -----  \n",
            " 0   age       920 non-null    float64\n",
            " 1   sex       920 non-null    float64\n",
            " 2   cp        920 non-null    float64\n",
            " 3   trestbps  920 non-null    object \n",
            " 4   chol      920 non-null    object \n",
            " 5   fbs       920 non-null    object \n",
            " 6   restecg   920 non-null    object \n",
            " 7   thalach   920 non-null    object \n",
            " 8   exang     920 non-null    object \n",
            " 9   oldpeak   920 non-null    object \n",
            " 10  slope     920 non-null    object \n",
            " 11  ca        920 non-null    object \n",
            " 12  thal      920 non-null    object \n",
            " 13  target    920 non-null    int64  \n",
            " 14  location  920 non-null    int64  \n",
            "dtypes: float64(3), int64(2), object(10)\n",
            "memory usage: 107.9+ KB\n"
          ]
        }
      ],
      "source": [
        "df.info()"
      ]
    },
    {
      "cell_type": "code",
      "execution_count": 17,
      "id": "2ef60c8c",
      "metadata": {
        "id": "2ef60c8c"
      },
      "outputs": [
        {
          "data": {
            "text/plain": [
              "age             0\n",
              "sex             0\n",
              "cp              0\n",
              "trestbps       59\n",
              "chol           30\n",
              "fbs            90\n",
              "restecg         2\n",
              "thalach        55\n",
              "exang          55\n",
              "oldpeak        62\n",
              "slope         309\n",
              "ca            611\n",
              "thal          486\n",
              "target          0\n",
              "location        0\n",
              "target_cat      0\n",
              "dtype: int64"
            ]
          },
          "metadata": {},
          "output_type": "display_data"
        }
      ],
      "source": [
        "# Reemplazar los valores '?' por NaN\n",
        "df.replace('?', np.nan, inplace=True)\n",
        "\n",
        "# Convertir las columnas que deben ser numéricas a tipo float (algunas están como objetos)\n",
        "df = df.apply(pd.to_numeric, errors='coerce')\n",
        "\n",
        "# Verificar los datos nulos después del reemplazo\n",
        "display(df.isnull().sum())"
      ]
    },
    {
      "cell_type": "markdown",
      "id": "309cb2ca",
      "metadata": {},
      "source": [
        "Existe un gran número de datos faltantes para las columnas `slope`, `ca` y `thal`. Sería necesario eliminar estas características para tener una mayor cantidad de datos, pero podría hacer el modelado menos exacto. También es posible eliminar los datos faltantes para tener la mayor cantidad de características para el modelo. \n",
        "Vamos por el momento a eliminar los datos incompletos para evaluar un modelo con todas las características, posteriormente se tomará el modelo sin estas características y compararemos cuál nos da mejores métricas de desempeño. \n",
        "Dependiendo de esto, volveremos a este paso para determinar nuevamente que es lo que tenemos que hacer para maximizar la información de nuestro modelo."
      ]
    },
    {
      "cell_type": "code",
      "execution_count": 18,
      "id": "2bebb426",
      "metadata": {},
      "outputs": [
        {
          "data": {
            "text/html": [
              "<div>\n",
              "<style scoped>\n",
              "    .dataframe tbody tr th:only-of-type {\n",
              "        vertical-align: middle;\n",
              "    }\n",
              "\n",
              "    .dataframe tbody tr th {\n",
              "        vertical-align: top;\n",
              "    }\n",
              "\n",
              "    .dataframe thead th {\n",
              "        text-align: right;\n",
              "    }\n",
              "</style>\n",
              "<table border=\"1\" class=\"dataframe\">\n",
              "  <thead>\n",
              "    <tr style=\"text-align: right;\">\n",
              "      <th></th>\n",
              "      <th>age</th>\n",
              "      <th>sex</th>\n",
              "      <th>cp</th>\n",
              "      <th>trestbps</th>\n",
              "      <th>chol</th>\n",
              "      <th>fbs</th>\n",
              "      <th>restecg</th>\n",
              "      <th>thalach</th>\n",
              "      <th>exang</th>\n",
              "      <th>oldpeak</th>\n",
              "      <th>slope</th>\n",
              "      <th>ca</th>\n",
              "      <th>thal</th>\n",
              "      <th>target</th>\n",
              "      <th>location</th>\n",
              "      <th>target_cat</th>\n",
              "    </tr>\n",
              "  </thead>\n",
              "  <tbody>\n",
              "    <tr>\n",
              "      <th>count</th>\n",
              "      <td>299.000000</td>\n",
              "      <td>299.00000</td>\n",
              "      <td>299.000000</td>\n",
              "      <td>299.000000</td>\n",
              "      <td>299.000000</td>\n",
              "      <td>299.000000</td>\n",
              "      <td>299.000000</td>\n",
              "      <td>299.000000</td>\n",
              "      <td>299.000000</td>\n",
              "      <td>299.000000</td>\n",
              "      <td>299.000000</td>\n",
              "      <td>299.000000</td>\n",
              "      <td>299.000000</td>\n",
              "      <td>299.000000</td>\n",
              "      <td>299.000000</td>\n",
              "      <td>299.000000</td>\n",
              "    </tr>\n",
              "    <tr>\n",
              "      <th>mean</th>\n",
              "      <td>54.521739</td>\n",
              "      <td>0.67893</td>\n",
              "      <td>3.163880</td>\n",
              "      <td>131.715719</td>\n",
              "      <td>246.785953</td>\n",
              "      <td>0.143813</td>\n",
              "      <td>0.989967</td>\n",
              "      <td>149.327759</td>\n",
              "      <td>0.331104</td>\n",
              "      <td>1.058528</td>\n",
              "      <td>1.605351</td>\n",
              "      <td>0.672241</td>\n",
              "      <td>4.745819</td>\n",
              "      <td>0.946488</td>\n",
              "      <td>0.013378</td>\n",
              "      <td>0.464883</td>\n",
              "    </tr>\n",
              "    <tr>\n",
              "      <th>std</th>\n",
              "      <td>9.030264</td>\n",
              "      <td>0.46767</td>\n",
              "      <td>0.964069</td>\n",
              "      <td>17.747751</td>\n",
              "      <td>52.532582</td>\n",
              "      <td>0.351488</td>\n",
              "      <td>0.994903</td>\n",
              "      <td>23.121062</td>\n",
              "      <td>0.471399</td>\n",
              "      <td>1.162769</td>\n",
              "      <td>0.616962</td>\n",
              "      <td>0.937438</td>\n",
              "      <td>1.940977</td>\n",
              "      <td>1.230409</td>\n",
              "      <td>0.182695</td>\n",
              "      <td>0.499601</td>\n",
              "    </tr>\n",
              "    <tr>\n",
              "      <th>min</th>\n",
              "      <td>29.000000</td>\n",
              "      <td>0.00000</td>\n",
              "      <td>1.000000</td>\n",
              "      <td>94.000000</td>\n",
              "      <td>100.000000</td>\n",
              "      <td>0.000000</td>\n",
              "      <td>0.000000</td>\n",
              "      <td>71.000000</td>\n",
              "      <td>0.000000</td>\n",
              "      <td>0.000000</td>\n",
              "      <td>1.000000</td>\n",
              "      <td>0.000000</td>\n",
              "      <td>3.000000</td>\n",
              "      <td>0.000000</td>\n",
              "      <td>0.000000</td>\n",
              "      <td>0.000000</td>\n",
              "    </tr>\n",
              "    <tr>\n",
              "      <th>25%</th>\n",
              "      <td>48.000000</td>\n",
              "      <td>0.00000</td>\n",
              "      <td>3.000000</td>\n",
              "      <td>120.000000</td>\n",
              "      <td>211.000000</td>\n",
              "      <td>0.000000</td>\n",
              "      <td>0.000000</td>\n",
              "      <td>132.500000</td>\n",
              "      <td>0.000000</td>\n",
              "      <td>0.000000</td>\n",
              "      <td>1.000000</td>\n",
              "      <td>0.000000</td>\n",
              "      <td>3.000000</td>\n",
              "      <td>0.000000</td>\n",
              "      <td>0.000000</td>\n",
              "      <td>0.000000</td>\n",
              "    </tr>\n",
              "    <tr>\n",
              "      <th>50%</th>\n",
              "      <td>56.000000</td>\n",
              "      <td>1.00000</td>\n",
              "      <td>3.000000</td>\n",
              "      <td>130.000000</td>\n",
              "      <td>242.000000</td>\n",
              "      <td>0.000000</td>\n",
              "      <td>1.000000</td>\n",
              "      <td>152.000000</td>\n",
              "      <td>0.000000</td>\n",
              "      <td>0.800000</td>\n",
              "      <td>2.000000</td>\n",
              "      <td>0.000000</td>\n",
              "      <td>3.000000</td>\n",
              "      <td>0.000000</td>\n",
              "      <td>0.000000</td>\n",
              "      <td>0.000000</td>\n",
              "    </tr>\n",
              "    <tr>\n",
              "      <th>75%</th>\n",
              "      <td>61.000000</td>\n",
              "      <td>1.00000</td>\n",
              "      <td>4.000000</td>\n",
              "      <td>140.000000</td>\n",
              "      <td>275.500000</td>\n",
              "      <td>0.000000</td>\n",
              "      <td>2.000000</td>\n",
              "      <td>165.500000</td>\n",
              "      <td>1.000000</td>\n",
              "      <td>1.600000</td>\n",
              "      <td>2.000000</td>\n",
              "      <td>1.000000</td>\n",
              "      <td>7.000000</td>\n",
              "      <td>2.000000</td>\n",
              "      <td>0.000000</td>\n",
              "      <td>1.000000</td>\n",
              "    </tr>\n",
              "    <tr>\n",
              "      <th>max</th>\n",
              "      <td>77.000000</td>\n",
              "      <td>1.00000</td>\n",
              "      <td>4.000000</td>\n",
              "      <td>200.000000</td>\n",
              "      <td>564.000000</td>\n",
              "      <td>1.000000</td>\n",
              "      <td>2.000000</td>\n",
              "      <td>202.000000</td>\n",
              "      <td>1.000000</td>\n",
              "      <td>6.200000</td>\n",
              "      <td>3.000000</td>\n",
              "      <td>3.000000</td>\n",
              "      <td>7.000000</td>\n",
              "      <td>4.000000</td>\n",
              "      <td>3.000000</td>\n",
              "      <td>1.000000</td>\n",
              "    </tr>\n",
              "  </tbody>\n",
              "</table>\n",
              "</div>"
            ],
            "text/plain": [
              "              age        sex          cp    trestbps        chol         fbs  \\\n",
              "count  299.000000  299.00000  299.000000  299.000000  299.000000  299.000000   \n",
              "mean    54.521739    0.67893    3.163880  131.715719  246.785953    0.143813   \n",
              "std      9.030264    0.46767    0.964069   17.747751   52.532582    0.351488   \n",
              "min     29.000000    0.00000    1.000000   94.000000  100.000000    0.000000   \n",
              "25%     48.000000    0.00000    3.000000  120.000000  211.000000    0.000000   \n",
              "50%     56.000000    1.00000    3.000000  130.000000  242.000000    0.000000   \n",
              "75%     61.000000    1.00000    4.000000  140.000000  275.500000    0.000000   \n",
              "max     77.000000    1.00000    4.000000  200.000000  564.000000    1.000000   \n",
              "\n",
              "          restecg     thalach       exang     oldpeak       slope          ca  \\\n",
              "count  299.000000  299.000000  299.000000  299.000000  299.000000  299.000000   \n",
              "mean     0.989967  149.327759    0.331104    1.058528    1.605351    0.672241   \n",
              "std      0.994903   23.121062    0.471399    1.162769    0.616962    0.937438   \n",
              "min      0.000000   71.000000    0.000000    0.000000    1.000000    0.000000   \n",
              "25%      0.000000  132.500000    0.000000    0.000000    1.000000    0.000000   \n",
              "50%      1.000000  152.000000    0.000000    0.800000    2.000000    0.000000   \n",
              "75%      2.000000  165.500000    1.000000    1.600000    2.000000    1.000000   \n",
              "max      2.000000  202.000000    1.000000    6.200000    3.000000    3.000000   \n",
              "\n",
              "             thal      target    location  target_cat  \n",
              "count  299.000000  299.000000  299.000000  299.000000  \n",
              "mean     4.745819    0.946488    0.013378    0.464883  \n",
              "std      1.940977    1.230409    0.182695    0.499601  \n",
              "min      3.000000    0.000000    0.000000    0.000000  \n",
              "25%      3.000000    0.000000    0.000000    0.000000  \n",
              "50%      3.000000    0.000000    0.000000    0.000000  \n",
              "75%      7.000000    2.000000    0.000000    1.000000  \n",
              "max      7.000000    4.000000    3.000000    1.000000  "
            ]
          },
          "execution_count": 18,
          "metadata": {},
          "output_type": "execute_result"
        }
      ],
      "source": [
        "# Eliminar filas con valores nulos\n",
        "df.dropna(inplace=True)\n",
        "\n",
        "# Estadísticas descriptivas\n",
        "df.describe()"
      ]
    },
    {
      "cell_type": "code",
      "execution_count": 19,
      "id": "bce722cc",
      "metadata": {},
      "outputs": [
        {
          "name": "stdout",
          "output_type": "stream",
          "text": [
            "<class 'pandas.core.frame.DataFrame'>\n",
            "Index: 299 entries, 0 to 748\n",
            "Data columns (total 16 columns):\n",
            " #   Column      Non-Null Count  Dtype  \n",
            "---  ------      --------------  -----  \n",
            " 0   age         299 non-null    float64\n",
            " 1   sex         299 non-null    float64\n",
            " 2   cp          299 non-null    float64\n",
            " 3   trestbps    299 non-null    float64\n",
            " 4   chol        299 non-null    float64\n",
            " 5   fbs         299 non-null    float64\n",
            " 6   restecg     299 non-null    float64\n",
            " 7   thalach     299 non-null    float64\n",
            " 8   exang       299 non-null    float64\n",
            " 9   oldpeak     299 non-null    float64\n",
            " 10  slope       299 non-null    float64\n",
            " 11  ca          299 non-null    float64\n",
            " 12  thal        299 non-null    float64\n",
            " 13  target      299 non-null    int64  \n",
            " 14  location    299 non-null    int64  \n",
            " 15  target_cat  299 non-null    int64  \n",
            "dtypes: float64(13), int64(3)\n",
            "memory usage: 39.7 KB\n"
          ]
        }
      ],
      "source": [
        "df.info()"
      ]
    },
    {
      "cell_type": "markdown",
      "id": "d47042e1",
      "metadata": {},
      "source": [
        "Tras eliminar todos los datos faltantes, tenemos un total de 299 valores para nuestras 14 características y nuestro target. Vamos a revisar ahora nuestra variable generada `location` y nuestra variable objetivo."
      ]
    },
    {
      "cell_type": "code",
      "execution_count": 22,
      "id": "fba02f1a",
      "metadata": {},
      "outputs": [
        {
          "data": {
            "text/plain": [
              "location\n",
              "0    297\n",
              "1      1\n",
              "3      1\n",
              "Name: count, dtype: int64"
            ]
          },
          "metadata": {},
          "output_type": "display_data"
        },
        {
          "data": {
            "text/plain": [
              "target\n",
              "0    160\n",
              "1     56\n",
              "2     35\n",
              "3     35\n",
              "4     13\n",
              "Name: count, dtype: int64"
            ]
          },
          "metadata": {},
          "output_type": "display_data"
        }
      ],
      "source": [
        "display(df['location'].value_counts())\n",
        "display(df['target'].value_counts())"
      ]
    },
    {
      "cell_type": "markdown",
      "id": "7718ea7d",
      "metadata": {},
      "source": [
        "Para `location` tenemos que se encuentra muy desbalanceada, por lo que probablemente no aporte ninguna información relevante en este modelo actual, por lo que vamos a decidir eliminarla del dataset.\n",
        "Para `target` la clasificación es algo desbalanceada, vemos que los valores del 1 al 4 incluyen múltiples niveles de la enfermedad, pero para nuestros fines, únicamente nos interesa saber si el paciente tiene o no la enfermedad dadas las características mencionadas anteriormente. \n",
        "Por lo anterior, se ha decidido usar una variable binaria `target_cat` que sea 0 si no existe la enfermedad y 1 si esta presente."
      ]
    },
    {
      "cell_type": "code",
      "execution_count": 25,
      "id": "cb616387",
      "metadata": {},
      "outputs": [],
      "source": [
        "# Eliminar la columna location, pues no aporta información relevante\n",
        "df.drop(columns=['location'])\n",
        "\n",
        "# Crear una nueva columna 'target_cat' que sea binaria (1 si target > 0, 0 en caso contrario)\n",
        "df['target_cat'] = df['target'].apply(lambda x: 1 if x > 0 else 0)"
      ]
    },
    {
      "cell_type": "markdown",
      "id": "c7f064a1",
      "metadata": {},
      "source": [
        "Ahora podemos observar la distribución de la variable objetivo, y definir la clasificación binaria que haremos siendo:\n",
        "0 - No existe la enfermedad\n",
        "1 - Existe la enfermedad"
      ]
    },
    {
      "cell_type": "code",
      "execution_count": 26,
      "id": "3389f4de",
      "metadata": {},
      "outputs": [
        {
          "data": {
            "image/png": "[encoded data removed]",
            "text/plain": [
              "<Figure size 640x480 with 1 Axes>"
            ]
          },
          "metadata": {},
          "output_type": "display_data"
        }
      ],
      "source": [
        "# Visualización de la distribución de la variable objetivo\n",
        "sns.countplot(x='target_cat', data=df)\n",
        "plt.title('Distribución de la variable objetivo')\n",
        "plt.show()"
      ]
    },
    {
      "cell_type": "markdown",
      "id": "a3905ce2",
      "metadata": {
        "id": "a3905ce2"
      },
      "source": [
        "## Análisis exploratorio de datos\n"
      ]
    },
    {
      "cell_type": "code",
      "execution_count": null,
      "id": "cdb1d231",
      "metadata": {
        "id": "cdb1d231"
      },
      "outputs": [],
      "source": []
    },
    {
      "cell_type": "markdown",
      "id": "be07bab9",
      "metadata": {
        "id": "be07bab9"
      },
      "source": [
        "## Selección de modelo usando técnicas de aprendizaje supervisado\n"
      ]
    },
    {
      "cell_type": "markdown",
      "id": "d740661b",
      "metadata": {
        "id": "d740661b"
      },
      "source": [
        "### Selección de características\n"
      ]
    },
    {
      "cell_type": "code",
      "execution_count": null,
      "id": "a2ff3c9d",
      "metadata": {
        "id": "a2ff3c9d"
      },
      "outputs": [],
      "source": []
    },
    {
      "cell_type": "markdown",
      "id": "78bba6f7",
      "metadata": {
        "id": "78bba6f7"
      },
      "source": [
        "### Validación de balanceo de clases\n"
      ]
    },
    {
      "cell_type": "code",
      "execution_count": null,
      "id": "878e5987",
      "metadata": {
        "id": "878e5987"
      },
      "outputs": [],
      "source": []
    },
    {
      "cell_type": "markdown",
      "id": "10b010ab",
      "metadata": {
        "id": "10b010ab"
      },
      "source": [
        "### Selección de modelo supervisado\n"
      ]
    },
    {
      "cell_type": "code",
      "execution_count": null,
      "id": "3cd4ed9c",
      "metadata": {
        "id": "3cd4ed9c"
      },
      "outputs": [],
      "source": []
    },
    {
      "cell_type": "markdown",
      "id": "29af8b2c",
      "metadata": {
        "id": "29af8b2c"
      },
      "source": [
        "### Ajuste de hiperparámetros del modelo\n"
      ]
    },
    {
      "cell_type": "code",
      "execution_count": null,
      "id": "186f35e2",
      "metadata": {
        "id": "186f35e2"
      },
      "outputs": [],
      "source": []
    },
    {
      "cell_type": "markdown",
      "id": "b2c1a457",
      "metadata": {
        "id": "b2c1a457"
      },
      "source": [
        "### Evaluación del modelo seleccionado\n"
      ]
    },
    {
      "cell_type": "code",
      "execution_count": null,
      "id": "944235ff",
      "metadata": {
        "id": "944235ff"
      },
      "outputs": [],
      "source": []
    },
    {
      "cell_type": "markdown",
      "id": "509c5eb9",
      "metadata": {
        "id": "509c5eb9"
      },
      "source": [
        "## Análisis de clúster con aprendizaje no supervisado\n"
      ]
    },
    {
      "cell_type": "markdown",
      "id": "2361e653",
      "metadata": {
        "id": "2361e653"
      },
      "source": [
        "### PCA\n"
      ]
    },
    {
      "cell_type": "code",
      "execution_count": null,
      "id": "991fd629",
      "metadata": {
        "id": "991fd629"
      },
      "outputs": [],
      "source": []
    },
    {
      "cell_type": "markdown",
      "id": "cf5e239c",
      "metadata": {
        "id": "cf5e239c"
      },
      "source": [
        "### Clustering\n"
      ]
    },
    {
      "cell_type": "code",
      "execution_count": null,
      "id": "5aa667b7",
      "metadata": {
        "id": "5aa667b7"
      },
      "outputs": [],
      "source": []
    }
  ],
  "metadata": {
    "colab": {
      "include_colab_link": true,
      "provenance": []
    },
    "kernelspec": {
      "display_name": "Python 3",
      "language": "python",
      "name": "python3"
    },
    "language_info": {
      "codemirror_mode": {
        "name": "ipython",
        "version": 3
      },
      "file_extension": ".py",
      "mimetype": "text/x-python",
      "name": "python",
      "nbconvert_exporter": "python",
      "pygments_lexer": "ipython3",
      "version": "3.12.2"
    }
  },
  "nbformat": 4,
  "nbformat_minor": 5
}
