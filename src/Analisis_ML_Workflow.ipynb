{
 "cells": [
  {
   "cell_type": "markdown",
   "id": "7b4a5e9c",
   "metadata": {},
   "source": [
    "# Análisis de dataset"
   ]
  },
  {
   "cell_type": "markdown",
   "id": "5ad4cb13",
   "metadata": {},
   "source": [
    "## Importar librerías"
   ]
  },
  {
   "cell_type": "code",
   "execution_count": 1,
   "id": "113129fb",
   "metadata": {},
   "outputs": [],
   "source": [
    "# Manipulación y análisis de datos\n",
    "import pandas as pd\n",
    "import numpy as np\n",
    "# ...."
   ]
  },
  {
   "cell_type": "markdown",
   "id": "06b5d69b",
   "metadata": {},
   "source": [
    "## Carga y Preprocesamiento de Datos"
   ]
  },
  {
   "cell_type": "markdown",
   "id": "066332bd",
   "metadata": {},
   "source": [
    "### Carga del dataset"
   ]
  },
  {
   "cell_type": "code",
   "execution_count": null,
   "id": "821447ce",
   "metadata": {},
   "outputs": [],
   "source": []
  },
  {
   "cell_type": "markdown",
   "id": "b0829e27",
   "metadata": {},
   "source": [
    "### Exploración inicial del dataset"
   ]
  },
  {
   "cell_type": "code",
   "execution_count": null,
   "id": "767da08d",
   "metadata": {},
   "outputs": [],
   "source": []
  },
  {
   "cell_type": "markdown",
   "id": "1664945e",
   "metadata": {},
   "source": [
    "### Preprocesar Datos"
   ]
  },
  {
   "cell_type": "code",
   "execution_count": null,
   "id": "2ef60c8c",
   "metadata": {},
   "outputs": [],
   "source": []
  },
  {
   "cell_type": "markdown",
   "id": "a3905ce2",
   "metadata": {},
   "source": [
    "## Análisis exploratorio de datos\n"
   ]
  },
  {
   "cell_type": "code",
   "execution_count": null,
   "id": "cdb1d231",
   "metadata": {},
   "outputs": [],
   "source": []
  },
  {
   "cell_type": "markdown",
   "id": "be07bab9",
   "metadata": {},
   "source": [
    "## Selección de modelo usando técnicas de aprendizaje supervisado\n"
   ]
  },
  {
   "cell_type": "markdown",
   "id": "d740661b",
   "metadata": {},
   "source": [
    "### Selección de características\n"
   ]
  },
  {
   "cell_type": "code",
   "execution_count": null,
   "id": "a2ff3c9d",
   "metadata": {},
   "outputs": [],
   "source": []
  },
  {
   "cell_type": "markdown",
   "id": "78bba6f7",
   "metadata": {},
   "source": [
    "### Validación de balanceo de clases\n"
   ]
  },
  {
   "cell_type": "code",
   "execution_count": null,
   "id": "878e5987",
   "metadata": {},
   "outputs": [],
   "source": []
  },
  {
   "cell_type": "markdown",
   "id": "10b010ab",
   "metadata": {},
   "source": [
    "### Selección de modelo supervisado\n"
   ]
  },
  {
   "cell_type": "code",
   "execution_count": null,
   "id": "3cd4ed9c",
   "metadata": {},
   "outputs": [],
   "source": []
  },
  {
   "cell_type": "markdown",
   "id": "29af8b2c",
   "metadata": {},
   "source": [
    "### Ajuste de hiperparámetros del modelo\n"
   ]
  },
  {
   "cell_type": "code",
   "execution_count": null,
   "id": "186f35e2",
   "metadata": {},
   "outputs": [],
   "source": []
  },
  {
   "cell_type": "markdown",
   "id": "b2c1a457",
   "metadata": {},
   "source": [
    "### Evaluación del modelo seleccionado\n"
   ]
  },
  {
   "cell_type": "code",
   "execution_count": null,
   "id": "944235ff",
   "metadata": {},
   "outputs": [],
   "source": []
  },
  {
   "cell_type": "markdown",
   "id": "509c5eb9",
   "metadata": {},
   "source": [
    "## Análisis de clúster con aprendizaje no supervisado\n"
   ]
  },
  {
   "cell_type": "markdown",
   "id": "2361e653",
   "metadata": {},
   "source": [
    "### PCA\n"
   ]
  },
  {
   "cell_type": "code",
   "execution_count": null,
   "id": "991fd629",
   "metadata": {},
   "outputs": [],
   "source": []
  },
  {
   "cell_type": "markdown",
   "id": "cf5e239c",
   "metadata": {},
   "source": [
    "### Clustering\n"
   ]
  },
  {
   "cell_type": "code",
   "execution_count": null,
   "id": "5aa667b7",
   "metadata": {},
   "outputs": [],
   "source": []
  }
 ],
 "metadata": {
  "kernelspec": {
   "display_name": "Python 3",
   "language": "python",
   "name": "python3"
  },
  "language_info": {
   "codemirror_mode": {
    "name": "ipython",
    "version": 3
   },
   "file_extension": ".py",
   "mimetype": "text/x-python",
   "name": "python",
   "nbconvert_exporter": "python",
   "pygments_lexer": "ipython3",
   "version": "3.12.2"
  }
 },
 "nbformat": 4,
 "nbformat_minor": 5
}
