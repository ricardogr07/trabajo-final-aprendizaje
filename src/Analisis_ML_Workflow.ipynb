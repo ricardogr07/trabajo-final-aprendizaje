{
  "cells": [
    {
      "cell_type": "markdown",
      "id": "6b98fed7",
      "metadata": {
        "colab_type": "text",
        "id": "view-in-github"
      },
      "source": [
        "<a href=\"https://colab.research.google.com/github/ricardogr07/trabajo-final-aprendizaje/blob/main/src/Analisis_ML_Workflow.ipynb\" target=\"_parent\"><img src=\"https://colab.research.google.com/assets/colab-badge.svg\" alt=\"Open In Colab\"/></a>"
      ]
    },
    {
      "cell_type": "markdown",
      "id": "7b4a5e9c",
      "metadata": {
        "id": "7b4a5e9c"
      },
      "source": [
        "# Análisis de dataset"
      ]
    },
    {
      "cell_type": "markdown",
      "id": "5ad4cb13",
      "metadata": {
        "id": "5ad4cb13"
      },
      "source": [
        "## Importar librerías"
      ]
    },
    {
      "cell_type": "code",
      "execution_count": null,
      "id": "6f4379ad",
      "metadata": {
        "colab": {
          "base_uri": "https://localhost:8080/"
        },
        "id": "6f4379ad",
        "outputId": "bfa18ca4-1d1a-4dd4-ed80-fef929ec1d39"
      },
      "outputs": [],
      "source": [
        "# Correr esta celda unicamente si se hace desde Colab\n",
        "%pip install pandas numpy\n",
        "\n",
        "!git clone https://github.com/ricardogr07/trabajo-final-aprendizaje.git\n",
        "%cd trabajo-final-aprendizaje/src\n",
        "from evaluation_functions import *"
      ]
    },
    {
      "cell_type": "markdown",
      "id": "39a94b0f",
      "metadata": {},
      "source": [
        "### Importar librerías necesarias\n",
        "\n",
        "- `pandas` y `numpy`: Para la manipulación de datos.\n",
        "- `matplotlib.pyplot` y `seaborn`: Visualización de datos.\n",
        "- `sklearn`: Selección y evaluación de modelos supervisados (regresión logística, árboles de decisión, Random Forest, SVM, k-NN). "
      ]
    },
    {
      "cell_type": "code",
      "execution_count": 1,
      "id": "113129fb",
      "metadata": {
        "id": "113129fb"
      },
      "outputs": [],
      "source": [
        "# Manipulación y análisis de datos\n",
        "import pandas as pd\n",
        "import numpy as np\n",
        "\n",
        "# Visualización de datos\n",
        "import matplotlib.pyplot as plt\n",
        "import matplotlib.colors as mcolors\n",
        "import seaborn as sns\n",
        "\n",
        "# Selección y evaluación de modelos supervisados\n",
        "from sklearn.model_selection import train_test_split\n",
        "from sklearn.preprocessing import StandardScaler\n",
        "\n",
        "# Modelos de clasificación\n",
        "from sklearn.linear_model import LogisticRegression  \n",
        "from sklearn.tree import DecisionTreeClassifier\n",
        "from sklearn.ensemble import RandomForestClassifier  \n",
        "from sklearn.svm import SVC \n",
        "from sklearn.neighbors import KNeighborsClassifier  \n",
        "\n",
        "# Selección de características\n",
        "from sklearn.feature_selection import SequentialFeatureSelector  \n",
        "\n",
        "from evaluation_functions import *"
      ]
    },
    {
      "cell_type": "markdown",
      "id": "06b5d69b",
      "metadata": {
        "id": "06b5d69b"
      },
      "source": [
        "## Carga y Preprocesamiento de Datos"
      ]
    },
    {
      "cell_type": "markdown",
      "id": "F4FGhHNfI1LH",
      "metadata": {
        "id": "F4FGhHNfI1LH"
      },
      "source": [
        "En esta sección se carga el conjunto de datos de los archivos .data que contiene información sobre enfermedades cardíacas, disponible en el repositorio de UCI Machine Learning. Las columnas del conjunto de datos se especifican manualmente ya que el archivo no tiene encabezados. El dataset contiene información sobre varios factores de riesgo y el objetivo es predecir la presencia de una enfermedad cardíaca (`target`)."
      ]
    },
    {
      "cell_type": "markdown",
      "id": "066332bd",
      "metadata": {
        "id": "066332bd"
      },
      "source": [
        "### Carga del dataset"
      ]
    },
    {
      "cell_type": "code",
      "execution_count": 2,
      "id": "a6418693",
      "metadata": {
        "colab": {
          "base_uri": "https://localhost:8080/"
        },
        "id": "a6418693",
        "outputId": "3176e69f-b33e-49bd-84e0-24498f29d9a1"
      },
      "outputs": [],
      "source": [
        "cleveland_data_file_path = '../dataset/cleveland.data'\n",
        "hungarian_data_file_path = '../dataset/hungarian.data'\n",
        "switzerland_data_file_path = '../dataset/switzerland.data'\n",
        "va_data_file_path = '../dataset/va.data'\n",
        "\n",
        "column_names = ['age', 'sex', 'cp', 'trestbps', 'chol', 'fbs', 'restecg', 'thalach', 'exang', 'oldpeak', 'slope', 'ca', 'thal', 'target']\n",
        "\n",
        "# Cargar todos los datos y generar un solo dataframe\n",
        "try:\n",
        "    data_cleveland = pd.read_csv(cleveland_data_file_path, names = column_names)\n",
        "    data_hungarian = pd.read_csv(hungarian_data_file_path, names = column_names)\n",
        "    data_switzerland = pd.read_csv(switzerland_data_file_path, names = column_names)\n",
        "    data_va = pd.read_csv(va_data_file_path, names = column_names)\n",
        "\n",
        "    # Agregar location como parte de las variables, pues se usan las 4 bases de datos\n",
        "    data_cleveland['location'] = 0\n",
        "    data_hungarian['location'] = 1\n",
        "    data_switzerland['location'] = 2\n",
        "    data_va['location'] = 3\n",
        "\n",
        "    df = pd.concat([data_cleveland, data_hungarian, data_switzerland, data_va], ignore_index=True)\n",
        "\n",
        "except Exception as e:\n",
        "    print(f\"Error reading the file: {e}\")\n"
      ]
    },
    {
      "cell_type": "markdown",
      "id": "b0829e27",
      "metadata": {
        "id": "b0829e27"
      },
      "source": [
        "### Exploración inicial del dataset"
      ]
    },
    {
      "cell_type": "markdown",
      "id": "67f3369f",
      "metadata": {},
      "source": [
        "En esta sección se realiza una inspección de la estructura del conjunto de datos para entender el tipo de variables con las que estamos trabajando. Se revisa la cantidad de entradas, los nombres de las columnas, los tipos de datos, y si hay valores faltantes. Es importante notar que algunas columnas tienen el tipo `object`, lo que indica que pueden contener valores categóricos o valores que no han sido correctamente identificados como numéricos."
      ]
    },
    {
      "cell_type": "code",
      "execution_count": 3,
      "id": "767da08d",
      "metadata": {
        "id": "767da08d"
      },
      "outputs": [
        {
          "name": "stdout",
          "output_type": "stream",
          "text": [
            "<class 'pandas.core.frame.DataFrame'>\n",
            "RangeIndex: 920 entries, 0 to 919\n",
            "Data columns (total 15 columns):\n",
            " #   Column    Non-Null Count  Dtype  \n",
            "---  ------    --------------  -----  \n",
            " 0   age       920 non-null    float64\n",
            " 1   sex       920 non-null    float64\n",
            " 2   cp        920 non-null    float64\n",
            " 3   trestbps  920 non-null    object \n",
            " 4   chol      920 non-null    object \n",
            " 5   fbs       920 non-null    object \n",
            " 6   restecg   920 non-null    object \n",
            " 7   thalach   920 non-null    object \n",
            " 8   exang     920 non-null    object \n",
            " 9   oldpeak   920 non-null    object \n",
            " 10  slope     920 non-null    object \n",
            " 11  ca        920 non-null    object \n",
            " 12  thal      920 non-null    object \n",
            " 13  target    920 non-null    int64  \n",
            " 14  location  920 non-null    int64  \n",
            "dtypes: float64(3), int64(2), object(10)\n",
            "memory usage: 107.9+ KB\n"
          ]
        }
      ],
      "source": [
        "df.info()"
      ]
    },
    {
      "cell_type": "code",
      "execution_count": 4,
      "id": "3d7fdbf9",
      "metadata": {},
      "outputs": [
        {
          "name": "stdout",
          "output_type": "stream",
          "text": [
            "Valores únicos en la columna 'age':\n",
            "[63. 67. 37. 41. 56. 62. 57. 53. 44. 52. 48. 54. 49. 64. 58. 60. 50. 66.\n",
            " 43. 40. 69. 59. 42. 55. 61. 65. 71. 51. 46. 45. 39. 68. 47. 34. 35. 29.\n",
            " 70. 77. 38. 74. 76. 28. 30. 31. 32. 33. 36. 72. 73. 75.]\n",
            "\n",
            "\n",
            "Valores únicos en la columna 'sex':\n",
            "[1. 0.]\n",
            "\n",
            "\n",
            "Valores únicos en la columna 'cp':\n",
            "[1. 4. 3. 2.]\n",
            "\n",
            "\n",
            "Valores únicos en la columna 'trestbps':\n",
            "[145.0 160.0 120.0 130.0 140.0 172.0 150.0 110.0 132.0 117.0 135.0 112.0\n",
            " 105.0 124.0 125.0 142.0 128.0 170.0 155.0 104.0 180.0 138.0 108.0 134.0\n",
            " 122.0 115.0 118.0 100.0 200.0 94.0 165.0 102.0 152.0 101.0 126.0 174.0\n",
            " 148.0 178.0 158.0 192.0 129.0 144.0 123.0 136.0 146.0 106.0 156.0 154.0\n",
            " 114.0 164.0 '130' '120' '140' '170' '100' '105' '110' '125' '150' '98'\n",
            " '112' '145' '190' '160' '115' '142' '180' '132' '135' '?' '108' '124'\n",
            " '113' '122' '92' '118' '106' '200' '138' '136' '128' '155' '95' '165'\n",
            " '80' '185' '126' '152' '116' '0' '144' '154' '104' '134' '178' '146'\n",
            " '158' '102' '96' '172' '156' '114' '127']\n",
            "\n",
            "\n",
            "Valores únicos en la columna 'chol':\n",
            "[233.0 286.0 229.0 250.0 204.0 236.0 268.0 354.0 254.0 203.0 192.0 294.0\n",
            " 256.0 263.0 199.0 168.0 239.0 275.0 266.0 211.0 283.0 284.0 224.0 206.0\n",
            " 219.0 340.0 226.0 247.0 167.0 230.0 335.0 234.0 177.0 276.0 353.0 243.0\n",
            " 225.0 302.0 212.0 330.0 175.0 417.0 197.0 198.0 290.0 253.0 172.0 273.0\n",
            " 213.0 305.0 216.0 304.0 188.0 282.0 185.0 232.0 326.0 231.0 269.0 267.0\n",
            " 248.0 360.0 258.0 308.0 245.0 270.0 208.0 264.0 321.0 274.0 325.0 235.0\n",
            " 257.0 164.0 141.0 252.0 255.0 201.0 222.0 260.0 182.0 303.0 265.0 309.0\n",
            " 307.0 249.0 186.0 341.0 183.0 407.0 217.0 288.0 220.0 209.0 227.0 261.0\n",
            " 174.0 281.0 221.0 205.0 240.0 289.0 318.0 298.0 564.0 246.0 322.0 299.0\n",
            " 300.0 293.0 277.0 214.0 207.0 223.0 160.0 394.0 184.0 315.0 409.0 244.0\n",
            " 195.0 196.0 126.0 313.0 259.0 200.0 262.0 215.0 228.0 193.0 271.0 210.0\n",
            " 327.0 149.0 295.0 306.0 178.0 237.0 218.0 242.0 319.0 166.0 180.0 311.0\n",
            " 278.0 342.0 169.0 187.0 157.0 176.0 241.0 131.0 '132' '243' '?' '237'\n",
            " '219' '198' '225' '254' '298' '161' '214' '220' '160' '167' '308' '264'\n",
            " '166' '340' '209' '260' '211' '173' '283' '194' '223' '315' '275' '297'\n",
            " '292' '182' '200' '204' '241' '339' '147' '273' '307' '289' '215' '281'\n",
            " '250' '184' '245' '291' '295' '269' '196' '268' '228' '358' '201' '249'\n",
            " '266' '186' '207' '218' '412' '224' '238' '230' '163' '240' '280' '257'\n",
            " '263' '276' '284' '195' '227' '253' '187' '202' '328' '168' '216' '129'\n",
            " '190' '188' '179' '210' '272' '180' '100' '259' '468' '274' '320' '221'\n",
            " '309' '312' '171' '208' '246' '305' '217' '365' '344' '394' '256' '326'\n",
            " '277' '270' '229' '85' '347' '251' '222' '287' '318' '213' '294' '193'\n",
            " '271' '156' '267' '282' '117' '466' '247' '226' '265' '206' '288' '303'\n",
            " '338' '248' '306' '529' '392' '231' '329' '355' '233' '242' '603' '255'\n",
            " '172' '175' '290' '341' '234' '342' '404' '518' '285' '279' '388' '164'\n",
            " '336' '491' '205' '212' '331' '393' 0 '0' '236' '177' '203' '153' '316'\n",
            " '311' '252' '458' '384' '258' '235' '349' '142' '197' '192' '261' '181'\n",
            " '310' '232' '170' '369' '244' '165' '337' '300' '333' '139' '385']\n",
            "\n",
            "\n",
            "Valores únicos en la columna 'fbs':\n",
            "[1.0 0.0 '0' '?' '1']\n",
            "\n",
            "\n",
            "Valores únicos en la columna 'restecg':\n",
            "[2.0 0.0 1.0 '2' '0' '1' '?']\n",
            "\n",
            "\n",
            "Valores únicos en la columna 'thalach':\n",
            "[150.0 108.0 129.0 187.0 172.0 178.0 160.0 163.0 147.0 155.0 148.0 153.0\n",
            " 142.0 173.0 162.0 174.0 168.0 139.0 171.0 144.0 132.0 158.0 114.0 151.0\n",
            " 161.0 179.0 120.0 112.0 137.0 157.0 169.0 165.0 123.0 128.0 152.0 140.0\n",
            " 188.0 109.0 125.0 131.0 170.0 113.0 99.0 177.0 141.0 180.0 111.0 143.0\n",
            " 182.0 156.0 115.0 149.0 145.0 146.0 175.0 186.0 185.0 159.0 130.0 190.0\n",
            " 136.0 97.0 127.0 154.0 133.0 126.0 202.0 103.0 166.0 164.0 184.0 124.0\n",
            " 122.0 96.0 138.0 88.0 105.0 194.0 195.0 106.0 167.0 95.0 192.0 117.0\n",
            " 121.0 116.0 71.0 118.0 181.0 134.0 90.0 '185' '160' '170' '150' '165'\n",
            " '184' '155' '190' '168' '180' '178' '172' '130' '142' '98' '158' '129'\n",
            " '146' '145' '120' '106' '132' '140' '138' '167' '188' '144' '137' '136'\n",
            " '152' '175' '176' '118' '154' '115' '135' '122' '110' '90' '116' '174'\n",
            " '125' '?' '148' '100' '164' '139' '127' '162' '112' '134' '114' '128'\n",
            " '126' '124' '153' '166' '103' '156' '87' '102' '92' '99' '121' '91' '108'\n",
            " '96' '82' '105' '143' '119' '94' '179' '133' '113' '149' '104' '163' '60'\n",
            " '95' '141' '83' '97' '131' '182' '63' '70' '77' '117' '123' '72' '78'\n",
            " '109' '86' '93' '67' '157' '84' '111' '80' '107' '161' '69' '88' '73'\n",
            " '159' '151']\n",
            "\n",
            "\n",
            "Valores únicos en la columna 'exang':\n",
            "[0.0 1.0 '0' '1' '?']\n",
            "\n",
            "\n",
            "Valores únicos en la columna 'oldpeak':\n",
            "[2.3 1.5 2.6 3.5 1.4 0.8 3.6 0.6 3.1 0.4 1.3 0.0 0.5 1.6 1.0 1.2 0.2 1.8\n",
            " 3.2 2.4 2.0 2.5 2.2 2.8 3.0 3.4 6.2 4.0 5.6 2.9 0.1 2.1 1.9 4.2 0.9 1.1\n",
            " 3.8 0.7 0.3 4.4 5.0 '.7' '.2' '?' '1' '2.8' '0' '-1.1' '1.6' '-1.5' '1.5'\n",
            " '2' '.5' '-.1' '-2.6' '2.1' '-.7' '2.2' '3' '.1' '.3' '-2' '-1' '1.8'\n",
            " '1.4' '2.6' '.9' '2.4' '1.1' '.4' '2.5' '1.7' '-.8' '-.5' '-.9' '3.7'\n",
            " '1.3' '-0.5' '0.5' '4' '3.5' '0.8']\n",
            "\n",
            "\n",
            "Valores únicos en la columna 'slope':\n",
            "[3.0 2.0 1.0 '?' '2' '1' '3']\n",
            "\n",
            "\n",
            "Valores únicos en la columna 'ca':\n",
            "['0.0' '3.0' '2.0' '1.0' '?' '0' '1' '2']\n",
            "\n",
            "\n",
            "Valores únicos en la columna 'thal':\n",
            "['6.0' '3.0' '7.0' '?' '6' '3' '7']\n",
            "\n",
            "\n",
            "Valores únicos en la columna 'target':\n",
            "[0 2 1 3 4]\n",
            "\n",
            "\n",
            "Valores únicos en la columna 'location':\n",
            "[0 1 2 3]\n",
            "\n",
            "\n"
          ]
        }
      ],
      "source": [
        "for columna in df.columns:\n",
        "    valores_unicos = df[columna].unique()\n",
        "    print(f\"Valores únicos en la columna '{columna}':\")\n",
        "    print(valores_unicos)\n",
        "    print('\\n')"
      ]
    },
    {
      "cell_type": "markdown",
      "id": "65d42793",
      "metadata": {},
      "source": [
        "Al examinar los valores únicos presentes en las columnas se descubre que existen múltiples columnas que contienen el valor '?' en lugar de un valor numérico. Este es un indicador de datos faltantes o incorrectos que deberán ser manejados antes de continuar con el análisis.\n",
        "Adicionalmente, hay columnas que tienen como valor un `string` en lugar de un `int` o `float`, por lo que va a ser necesario estandarizar estos valores."
      ]
    },
    {
      "cell_type": "markdown",
      "id": "1664945e",
      "metadata": {
        "id": "1664945e"
      },
      "source": [
        "### Preprocesar Datos"
      ]
    },
    {
      "cell_type": "markdown",
      "id": "f6f4010e",
      "metadata": {},
      "source": [
        "En esta sección, se manejan los valores faltantes representados por el símbolo `'?'`:\n",
        "\n",
        "* Primero, se reemplazan estos valores por `NaN` (not a number) para que pandas pueda identificarlos como datos faltantes. \n",
        "\n",
        "* Luego, se convierten las columnas afectadas en tipo `float`, ya que originalmente estaban mal interpretadas como `object`. \n",
        "\n",
        "* Posteriormente, se eliminan las filas que contienen valores nulos. \n",
        "\n",
        "* Finalmente, se revisan estadísticas descriptivas del dataset limpio."
      ]
    },
    {
      "cell_type": "code",
      "execution_count": 5,
      "id": "608adefe",
      "metadata": {},
      "outputs": [
        {
          "name": "stdout",
          "output_type": "stream",
          "text": [
            "<class 'pandas.core.frame.DataFrame'>\n",
            "RangeIndex: 920 entries, 0 to 919\n",
            "Data columns (total 15 columns):\n",
            " #   Column    Non-Null Count  Dtype  \n",
            "---  ------    --------------  -----  \n",
            " 0   age       920 non-null    float64\n",
            " 1   sex       920 non-null    float64\n",
            " 2   cp        920 non-null    float64\n",
            " 3   trestbps  920 non-null    object \n",
            " 4   chol      920 non-null    object \n",
            " 5   fbs       920 non-null    object \n",
            " 6   restecg   920 non-null    object \n",
            " 7   thalach   920 non-null    object \n",
            " 8   exang     920 non-null    object \n",
            " 9   oldpeak   920 non-null    object \n",
            " 10  slope     920 non-null    object \n",
            " 11  ca        920 non-null    object \n",
            " 12  thal      920 non-null    object \n",
            " 13  target    920 non-null    int64  \n",
            " 14  location  920 non-null    int64  \n",
            "dtypes: float64(3), int64(2), object(10)\n",
            "memory usage: 107.9+ KB\n"
          ]
        }
      ],
      "source": [
        "df.info()"
      ]
    },
    {
      "cell_type": "code",
      "execution_count": 6,
      "id": "2ef60c8c",
      "metadata": {
        "id": "2ef60c8c"
      },
      "outputs": [
        {
          "data": {
            "text/plain": [
              "age           0\n",
              "sex           0\n",
              "cp            0\n",
              "trestbps     59\n",
              "chol         30\n",
              "fbs          90\n",
              "restecg       2\n",
              "thalach      55\n",
              "exang        55\n",
              "oldpeak      62\n",
              "slope       309\n",
              "ca          611\n",
              "thal        486\n",
              "target        0\n",
              "location      0\n",
              "dtype: int64"
            ]
          },
          "metadata": {},
          "output_type": "display_data"
        }
      ],
      "source": [
        "# Reemplazar los valores '?' por NaN\n",
        "df.replace('?', np.nan, inplace=True)\n",
        "\n",
        "# Convertir las columnas que deben ser numéricas a tipo float (algunas están como objetos)\n",
        "df = df.apply(pd.to_numeric, errors='coerce')\n",
        "\n",
        "# Verificar los datos nulos después del reemplazo\n",
        "display(df.isnull().sum())"
      ]
    },
    {
      "cell_type": "markdown",
      "id": "309cb2ca",
      "metadata": {},
      "source": [
        "Existe un gran número de datos faltantes para las columnas `slope`, `ca` y `thal`. Sería necesario eliminar estas características para tener una mayor cantidad de datos, pero podría hacer el modelado menos exacto. También es posible eliminar los datos faltantes para tener la mayor cantidad de características para el modelo. \n",
        "\n",
        "Vamos por el momento a eliminar los datos incompletos para evaluar un modelo con todas las características, posteriormente se tomará el modelo sin estas características y compararemos cuál nos da mejores métricas de desempeño. \n",
        "\n",
        "Dependiendo de esto, volveremos a este paso para determinar nuevamente que es lo que tenemos que hacer para maximizar la información de nuestro modelo."
      ]
    },
    {
      "cell_type": "code",
      "execution_count": 7,
      "id": "2bebb426",
      "metadata": {},
      "outputs": [
        {
          "data": {
            "text/html": [
              "<div>\n",
              "<style scoped>\n",
              "    .dataframe tbody tr th:only-of-type {\n",
              "        vertical-align: middle;\n",
              "    }\n",
              "\n",
              "    .dataframe tbody tr th {\n",
              "        vertical-align: top;\n",
              "    }\n",
              "\n",
              "    .dataframe thead th {\n",
              "        text-align: right;\n",
              "    }\n",
              "</style>\n",
              "<table border=\"1\" class=\"dataframe\">\n",
              "  <thead>\n",
              "    <tr style=\"text-align: right;\">\n",
              "      <th></th>\n",
              "      <th>age</th>\n",
              "      <th>sex</th>\n",
              "      <th>cp</th>\n",
              "      <th>trestbps</th>\n",
              "      <th>chol</th>\n",
              "      <th>fbs</th>\n",
              "      <th>restecg</th>\n",
              "      <th>thalach</th>\n",
              "      <th>exang</th>\n",
              "      <th>oldpeak</th>\n",
              "      <th>slope</th>\n",
              "      <th>ca</th>\n",
              "      <th>thal</th>\n",
              "      <th>target</th>\n",
              "      <th>location</th>\n",
              "    </tr>\n",
              "  </thead>\n",
              "  <tbody>\n",
              "    <tr>\n",
              "      <th>count</th>\n",
              "      <td>299.000000</td>\n",
              "      <td>299.00000</td>\n",
              "      <td>299.000000</td>\n",
              "      <td>299.000000</td>\n",
              "      <td>299.000000</td>\n",
              "      <td>299.000000</td>\n",
              "      <td>299.000000</td>\n",
              "      <td>299.000000</td>\n",
              "      <td>299.000000</td>\n",
              "      <td>299.000000</td>\n",
              "      <td>299.000000</td>\n",
              "      <td>299.000000</td>\n",
              "      <td>299.000000</td>\n",
              "      <td>299.000000</td>\n",
              "      <td>299.000000</td>\n",
              "    </tr>\n",
              "    <tr>\n",
              "      <th>mean</th>\n",
              "      <td>54.521739</td>\n",
              "      <td>0.67893</td>\n",
              "      <td>3.163880</td>\n",
              "      <td>131.715719</td>\n",
              "      <td>246.785953</td>\n",
              "      <td>0.143813</td>\n",
              "      <td>0.989967</td>\n",
              "      <td>149.327759</td>\n",
              "      <td>0.331104</td>\n",
              "      <td>1.058528</td>\n",
              "      <td>1.605351</td>\n",
              "      <td>0.672241</td>\n",
              "      <td>4.745819</td>\n",
              "      <td>0.946488</td>\n",
              "      <td>0.013378</td>\n",
              "    </tr>\n",
              "    <tr>\n",
              "      <th>std</th>\n",
              "      <td>9.030264</td>\n",
              "      <td>0.46767</td>\n",
              "      <td>0.964069</td>\n",
              "      <td>17.747751</td>\n",
              "      <td>52.532582</td>\n",
              "      <td>0.351488</td>\n",
              "      <td>0.994903</td>\n",
              "      <td>23.121062</td>\n",
              "      <td>0.471399</td>\n",
              "      <td>1.162769</td>\n",
              "      <td>0.616962</td>\n",
              "      <td>0.937438</td>\n",
              "      <td>1.940977</td>\n",
              "      <td>1.230409</td>\n",
              "      <td>0.182695</td>\n",
              "    </tr>\n",
              "    <tr>\n",
              "      <th>min</th>\n",
              "      <td>29.000000</td>\n",
              "      <td>0.00000</td>\n",
              "      <td>1.000000</td>\n",
              "      <td>94.000000</td>\n",
              "      <td>100.000000</td>\n",
              "      <td>0.000000</td>\n",
              "      <td>0.000000</td>\n",
              "      <td>71.000000</td>\n",
              "      <td>0.000000</td>\n",
              "      <td>0.000000</td>\n",
              "      <td>1.000000</td>\n",
              "      <td>0.000000</td>\n",
              "      <td>3.000000</td>\n",
              "      <td>0.000000</td>\n",
              "      <td>0.000000</td>\n",
              "    </tr>\n",
              "    <tr>\n",
              "      <th>25%</th>\n",
              "      <td>48.000000</td>\n",
              "      <td>0.00000</td>\n",
              "      <td>3.000000</td>\n",
              "      <td>120.000000</td>\n",
              "      <td>211.000000</td>\n",
              "      <td>0.000000</td>\n",
              "      <td>0.000000</td>\n",
              "      <td>132.500000</td>\n",
              "      <td>0.000000</td>\n",
              "      <td>0.000000</td>\n",
              "      <td>1.000000</td>\n",
              "      <td>0.000000</td>\n",
              "      <td>3.000000</td>\n",
              "      <td>0.000000</td>\n",
              "      <td>0.000000</td>\n",
              "    </tr>\n",
              "    <tr>\n",
              "      <th>50%</th>\n",
              "      <td>56.000000</td>\n",
              "      <td>1.00000</td>\n",
              "      <td>3.000000</td>\n",
              "      <td>130.000000</td>\n",
              "      <td>242.000000</td>\n",
              "      <td>0.000000</td>\n",
              "      <td>1.000000</td>\n",
              "      <td>152.000000</td>\n",
              "      <td>0.000000</td>\n",
              "      <td>0.800000</td>\n",
              "      <td>2.000000</td>\n",
              "      <td>0.000000</td>\n",
              "      <td>3.000000</td>\n",
              "      <td>0.000000</td>\n",
              "      <td>0.000000</td>\n",
              "    </tr>\n",
              "    <tr>\n",
              "      <th>75%</th>\n",
              "      <td>61.000000</td>\n",
              "      <td>1.00000</td>\n",
              "      <td>4.000000</td>\n",
              "      <td>140.000000</td>\n",
              "      <td>275.500000</td>\n",
              "      <td>0.000000</td>\n",
              "      <td>2.000000</td>\n",
              "      <td>165.500000</td>\n",
              "      <td>1.000000</td>\n",
              "      <td>1.600000</td>\n",
              "      <td>2.000000</td>\n",
              "      <td>1.000000</td>\n",
              "      <td>7.000000</td>\n",
              "      <td>2.000000</td>\n",
              "      <td>0.000000</td>\n",
              "    </tr>\n",
              "    <tr>\n",
              "      <th>max</th>\n",
              "      <td>77.000000</td>\n",
              "      <td>1.00000</td>\n",
              "      <td>4.000000</td>\n",
              "      <td>200.000000</td>\n",
              "      <td>564.000000</td>\n",
              "      <td>1.000000</td>\n",
              "      <td>2.000000</td>\n",
              "      <td>202.000000</td>\n",
              "      <td>1.000000</td>\n",
              "      <td>6.200000</td>\n",
              "      <td>3.000000</td>\n",
              "      <td>3.000000</td>\n",
              "      <td>7.000000</td>\n",
              "      <td>4.000000</td>\n",
              "      <td>3.000000</td>\n",
              "    </tr>\n",
              "  </tbody>\n",
              "</table>\n",
              "</div>"
            ],
            "text/plain": [
              "              age        sex          cp    trestbps        chol         fbs  \\\n",
              "count  299.000000  299.00000  299.000000  299.000000  299.000000  299.000000   \n",
              "mean    54.521739    0.67893    3.163880  131.715719  246.785953    0.143813   \n",
              "std      9.030264    0.46767    0.964069   17.747751   52.532582    0.351488   \n",
              "min     29.000000    0.00000    1.000000   94.000000  100.000000    0.000000   \n",
              "25%     48.000000    0.00000    3.000000  120.000000  211.000000    0.000000   \n",
              "50%     56.000000    1.00000    3.000000  130.000000  242.000000    0.000000   \n",
              "75%     61.000000    1.00000    4.000000  140.000000  275.500000    0.000000   \n",
              "max     77.000000    1.00000    4.000000  200.000000  564.000000    1.000000   \n",
              "\n",
              "          restecg     thalach       exang     oldpeak       slope          ca  \\\n",
              "count  299.000000  299.000000  299.000000  299.000000  299.000000  299.000000   \n",
              "mean     0.989967  149.327759    0.331104    1.058528    1.605351    0.672241   \n",
              "std      0.994903   23.121062    0.471399    1.162769    0.616962    0.937438   \n",
              "min      0.000000   71.000000    0.000000    0.000000    1.000000    0.000000   \n",
              "25%      0.000000  132.500000    0.000000    0.000000    1.000000    0.000000   \n",
              "50%      1.000000  152.000000    0.000000    0.800000    2.000000    0.000000   \n",
              "75%      2.000000  165.500000    1.000000    1.600000    2.000000    1.000000   \n",
              "max      2.000000  202.000000    1.000000    6.200000    3.000000    3.000000   \n",
              "\n",
              "             thal      target    location  \n",
              "count  299.000000  299.000000  299.000000  \n",
              "mean     4.745819    0.946488    0.013378  \n",
              "std      1.940977    1.230409    0.182695  \n",
              "min      3.000000    0.000000    0.000000  \n",
              "25%      3.000000    0.000000    0.000000  \n",
              "50%      3.000000    0.000000    0.000000  \n",
              "75%      7.000000    2.000000    0.000000  \n",
              "max      7.000000    4.000000    3.000000  "
            ]
          },
          "execution_count": 7,
          "metadata": {},
          "output_type": "execute_result"
        }
      ],
      "source": [
        "# Eliminar filas con valores nulos\n",
        "df.dropna(inplace=True)\n",
        "\n",
        "# Estadísticas descriptivas\n",
        "df.describe()"
      ]
    },
    {
      "cell_type": "code",
      "execution_count": 8,
      "id": "bce722cc",
      "metadata": {},
      "outputs": [
        {
          "name": "stdout",
          "output_type": "stream",
          "text": [
            "<class 'pandas.core.frame.DataFrame'>\n",
            "Index: 299 entries, 0 to 748\n",
            "Data columns (total 15 columns):\n",
            " #   Column    Non-Null Count  Dtype  \n",
            "---  ------    --------------  -----  \n",
            " 0   age       299 non-null    float64\n",
            " 1   sex       299 non-null    float64\n",
            " 2   cp        299 non-null    float64\n",
            " 3   trestbps  299 non-null    float64\n",
            " 4   chol      299 non-null    float64\n",
            " 5   fbs       299 non-null    float64\n",
            " 6   restecg   299 non-null    float64\n",
            " 7   thalach   299 non-null    float64\n",
            " 8   exang     299 non-null    float64\n",
            " 9   oldpeak   299 non-null    float64\n",
            " 10  slope     299 non-null    float64\n",
            " 11  ca        299 non-null    float64\n",
            " 12  thal      299 non-null    float64\n",
            " 13  target    299 non-null    int64  \n",
            " 14  location  299 non-null    int64  \n",
            "dtypes: float64(13), int64(2)\n",
            "memory usage: 37.4 KB\n"
          ]
        }
      ],
      "source": [
        "df.info()"
      ]
    },
    {
      "cell_type": "markdown",
      "id": "d47042e1",
      "metadata": {},
      "source": [
        "Tras eliminar todos los datos faltantes, tenemos un total de 299 valores para nuestras 15 características y nuestro target. \n",
        "\n",
        "Vamos a revisar ahora nuestra variable generada `location` y nuestra variable objetivo."
      ]
    },
    {
      "cell_type": "code",
      "execution_count": 9,
      "id": "fba02f1a",
      "metadata": {},
      "outputs": [
        {
          "data": {
            "text/plain": [
              "location\n",
              "0    297\n",
              "1      1\n",
              "3      1\n",
              "Name: count, dtype: int64"
            ]
          },
          "metadata": {},
          "output_type": "display_data"
        },
        {
          "data": {
            "text/plain": [
              "target\n",
              "0    160\n",
              "1     56\n",
              "2     35\n",
              "3     35\n",
              "4     13\n",
              "Name: count, dtype: int64"
            ]
          },
          "metadata": {},
          "output_type": "display_data"
        }
      ],
      "source": [
        "display(df['location'].value_counts())\n",
        "\n",
        "display(df['target'].value_counts())"
      ]
    },
    {
      "cell_type": "markdown",
      "id": "7718ea7d",
      "metadata": {},
      "source": [
        "Para `location` tenemos que se encuentra muy desbalanceada, por lo que probablemente no aporte ninguna información relevante en este modelo actual, por lo que vamos a decidir eliminarla del dataset.\n",
        "\n",
        "Para `target` la clasificación es algo desbalanceada, vemos que los valores del 1 al 4 incluyen múltiples niveles de la enfermedad, pero para nuestros fines, únicamente nos interesa saber si el paciente tiene o no la enfermedad dadas las características mencionadas anteriormente. \n",
        "\n",
        "Por lo anterior, se ha decidido usar una variable binaria `target_cat` que sea 0 si no existe la enfermedad y 1 si esta presente."
      ]
    },
    {
      "cell_type": "code",
      "execution_count": 25,
      "id": "cb616387",
      "metadata": {},
      "outputs": [],
      "source": [
        "# Eliminar la columna location, pues no aporta información relevante\n",
        "df.drop('location', axis=1, inplace=True)\n",
        "\n",
        "# Crear una nueva columna 'target_cat' que sea binaria (1 si target > 0, 0 en caso contrario)\n",
        "df['target_cat'] = df['target'].apply(lambda x: 1 if x > 0 else 0)"
      ]
    },
    {
      "cell_type": "markdown",
      "id": "c7f064a1",
      "metadata": {},
      "source": [
        "Ahora podemos observar la distribución de la variable objetivo, y definir la clasificación binaria que haremos siendo:\n",
        "\n",
        "0 - No existe enfermedad cardiovascular\n",
        "\n",
        "1 - Existe enfermedad cardiovascular"
      ]
    },
    {
      "cell_type": "code",
      "execution_count": 11,
      "id": "3389f4de",
      "metadata": {},
      "outputs": [
        {
          "data": {
            "image/png": "[encoded data removed]",
            "text/plain": [
              "<Figure size 640x480 with 1 Axes>"
            ]
          },
          "metadata": {},
          "output_type": "display_data"
        }
      ],
      "source": [
        "# Visualización de la distribución de la variable objetivo\n",
        "sns.countplot(x='target_cat', data=df)\n",
        "plt.title('Distribución de la variable objetivo')\n",
        "plt.xlabel('Enfermedad cardiovascular')\n",
        "plt.ylabel('Número de incidencias')\n",
        "plt.show()"
      ]
    },
    {
      "cell_type": "markdown",
      "id": "11557350",
      "metadata": {},
      "source": [
        "Vemos que las clases están un poco desbalanceadas, por lo que probablemente tengas que hacer algún tipo de rebalanceo como preprocesamiento antes de hacer el ajuste del modelo."
      ]
    },
    {
      "cell_type": "markdown",
      "id": "a3905ce2",
      "metadata": {
        "id": "a3905ce2"
      },
      "source": [
        "## Análisis exploratorio de datos\n"
      ]
    },
    {
      "cell_type": "markdown",
      "id": "f655f8a1",
      "metadata": {},
      "source": [
        "Con los datos ahora limpios y adecuadamente preparados, la siguiente sección se enfocará en el análisis exploratorio de datos (EDA). Este paso es fundamental para comprender en profundidad las características y estructuras subyacentes del conjunto de datos. \n",
        "\n",
        "A través del EDA, examinaremos distribuciones, relaciones y patrones entre las variables, lo que nos permitirá identificar tendencias significativas, detectar anomalías o valores atípicos y formular hipótesis informadas."
      ]
    },
    {
      "cell_type": "markdown",
      "id": "002c3912",
      "metadata": {},
      "source": [
        "### Variables del dataset"
      ]
    },
    {
      "cell_type": "code",
      "execution_count": 49,
      "id": "9db51e69",
      "metadata": {},
      "outputs": [
        {
          "data": {
            "text/html": [
              "<div>\n",
              "<style scoped>\n",
              "    .dataframe tbody tr th:only-of-type {\n",
              "        vertical-align: middle;\n",
              "    }\n",
              "\n",
              "    .dataframe tbody tr th {\n",
              "        vertical-align: top;\n",
              "    }\n",
              "\n",
              "    .dataframe thead th {\n",
              "        text-align: right;\n",
              "    }\n",
              "</style>\n",
              "<table border=\"1\" class=\"dataframe\">\n",
              "  <thead>\n",
              "    <tr style=\"text-align: right;\">\n",
              "      <th></th>\n",
              "      <th>age</th>\n",
              "      <th>sex</th>\n",
              "      <th>cp</th>\n",
              "      <th>trestbps</th>\n",
              "      <th>chol</th>\n",
              "      <th>fbs</th>\n",
              "      <th>restecg</th>\n",
              "      <th>thalach</th>\n",
              "      <th>exang</th>\n",
              "      <th>oldpeak</th>\n",
              "      <th>slope</th>\n",
              "      <th>ca</th>\n",
              "      <th>thal</th>\n",
              "      <th>target_cat</th>\n",
              "    </tr>\n",
              "  </thead>\n",
              "  <tbody>\n",
              "    <tr>\n",
              "      <th>0</th>\n",
              "      <td>63.0</td>\n",
              "      <td>1.0</td>\n",
              "      <td>1.0</td>\n",
              "      <td>145.0</td>\n",
              "      <td>233.0</td>\n",
              "      <td>1.0</td>\n",
              "      <td>2.0</td>\n",
              "      <td>150.0</td>\n",
              "      <td>0.0</td>\n",
              "      <td>2.3</td>\n",
              "      <td>3.0</td>\n",
              "      <td>0.0</td>\n",
              "      <td>6.0</td>\n",
              "      <td>0</td>\n",
              "    </tr>\n",
              "    <tr>\n",
              "      <th>1</th>\n",
              "      <td>67.0</td>\n",
              "      <td>1.0</td>\n",
              "      <td>4.0</td>\n",
              "      <td>160.0</td>\n",
              "      <td>286.0</td>\n",
              "      <td>0.0</td>\n",
              "      <td>2.0</td>\n",
              "      <td>108.0</td>\n",
              "      <td>1.0</td>\n",
              "      <td>1.5</td>\n",
              "      <td>2.0</td>\n",
              "      <td>3.0</td>\n",
              "      <td>3.0</td>\n",
              "      <td>1</td>\n",
              "    </tr>\n",
              "    <tr>\n",
              "      <th>2</th>\n",
              "      <td>67.0</td>\n",
              "      <td>1.0</td>\n",
              "      <td>4.0</td>\n",
              "      <td>120.0</td>\n",
              "      <td>229.0</td>\n",
              "      <td>0.0</td>\n",
              "      <td>2.0</td>\n",
              "      <td>129.0</td>\n",
              "      <td>1.0</td>\n",
              "      <td>2.6</td>\n",
              "      <td>2.0</td>\n",
              "      <td>2.0</td>\n",
              "      <td>7.0</td>\n",
              "      <td>1</td>\n",
              "    </tr>\n",
              "    <tr>\n",
              "      <th>3</th>\n",
              "      <td>37.0</td>\n",
              "      <td>1.0</td>\n",
              "      <td>3.0</td>\n",
              "      <td>130.0</td>\n",
              "      <td>250.0</td>\n",
              "      <td>0.0</td>\n",
              "      <td>0.0</td>\n",
              "      <td>187.0</td>\n",
              "      <td>0.0</td>\n",
              "      <td>3.5</td>\n",
              "      <td>3.0</td>\n",
              "      <td>0.0</td>\n",
              "      <td>3.0</td>\n",
              "      <td>0</td>\n",
              "    </tr>\n",
              "    <tr>\n",
              "      <th>4</th>\n",
              "      <td>41.0</td>\n",
              "      <td>0.0</td>\n",
              "      <td>2.0</td>\n",
              "      <td>130.0</td>\n",
              "      <td>204.0</td>\n",
              "      <td>0.0</td>\n",
              "      <td>2.0</td>\n",
              "      <td>172.0</td>\n",
              "      <td>0.0</td>\n",
              "      <td>1.4</td>\n",
              "      <td>1.0</td>\n",
              "      <td>0.0</td>\n",
              "      <td>3.0</td>\n",
              "      <td>0</td>\n",
              "    </tr>\n",
              "  </tbody>\n",
              "</table>\n",
              "</div>"
            ],
            "text/plain": [
              "    age  sex   cp  trestbps   chol  fbs  restecg  thalach  exang  oldpeak  \\\n",
              "0  63.0  1.0  1.0     145.0  233.0  1.0      2.0    150.0    0.0      2.3   \n",
              "1  67.0  1.0  4.0     160.0  286.0  0.0      2.0    108.0    1.0      1.5   \n",
              "2  67.0  1.0  4.0     120.0  229.0  0.0      2.0    129.0    1.0      2.6   \n",
              "3  37.0  1.0  3.0     130.0  250.0  0.0      0.0    187.0    0.0      3.5   \n",
              "4  41.0  0.0  2.0     130.0  204.0  0.0      2.0    172.0    0.0      1.4   \n",
              "\n",
              "   slope   ca  thal  target_cat  \n",
              "0    3.0  0.0   6.0           0  \n",
              "1    2.0  3.0   3.0           1  \n",
              "2    2.0  2.0   7.0           1  \n",
              "3    3.0  0.0   3.0           0  \n",
              "4    1.0  0.0   3.0           0  "
            ]
          },
          "metadata": {},
          "output_type": "display_data"
        }
      ],
      "source": [
        "display(df.drop('target', axis=1).head())"
      ]
    },
    {
      "cell_type": "markdown",
      "id": "841b2db1",
      "metadata": {},
      "source": [
        "La tabla presentada contiene datos clínicos de pacientes relacionados con parámetros cardiovasculares, utilizados para el análisis de enfermedades del corazón. Cada fila representa a un paciente con diversas características:\n",
        "\n",
        "Demográficas y generales:\n",
        "* age: Edad del paciente en años.\n",
        "* sex: Sexo del paciente (1.0 para masculino y 0.0 para femenino).\n",
        "\n",
        "Parámetros clínicos:\n",
        "* cp: Tipo de dolor de pecho experimentado.\n",
        "* trestbps: Presión arterial en reposo en mm Hg.\n",
        "* chol: Colesterol sérico en mg/dl.\n",
        "* fbs: Azúcar en ayunas (1.0 si es mayor a 120 mg/dl, 0.0 en caso contrario).\n",
        "* restecg: Resultados del electrocardiograma en reposo.\n",
        "* thalach: Frecuencia cardíaca máxima alcanzada.\n",
        "* exang: Angina inducida por ejercicio (1.0 sí, 0.0 no).\n",
        "* oldpeak: Depresión del segmento ST inducida por el ejercicio en relación con el reposo.\n",
        "* slope: Pendiente del segmento ST en el ejercicio máximo.\n",
        "* ca: Número de vasos principales coloreados por fluoroscopia.\n",
        "* thal: Resultado de la prueba de talio (3.0 normal, 6.0 defecto fijo, 7.0 defecto reversible).\n",
        "\n",
        "Variables objetivo:\n",
        "* target_cat: Categoría simplificada de la variable objetivo (0 para ausencia y 1 para presencia de enfermedad)."
      ]
    },
    {
      "cell_type": "markdown",
      "id": "61dcb4b0",
      "metadata": {},
      "source": [
        "### Correlación entre variables"
      ]
    },
    {
      "cell_type": "markdown",
      "id": "9398a848",
      "metadata": {},
      "source": [
        "Realizamos el siguiente análisis para visualizar las correlaciones entre las variables independientes del conjunto de datos. Al eliminar la columnas 'target', nos enfocamos exclusivamente en las características o predictores, lo cual es esencial para entender cómo se relacionan entre sí sin la influencia de la variable objetivo.\n",
        "\n",
        "Este análisis es útil por tres razones principales: primero, para identificar multicolinealidad, ya que variables altamente correlacionadas pueden afectar negativamente el rendimiento de algunos modelos; segundo, para entender las relaciones internas entre las variables, lo que puede ofrecer información sobre el comportamiento del sistema; y tercero, para mejorar el modelo predictivo al seleccionar características más relevantes y evitar incluir variables redundantes que no aportan nueva información."
      ]
    },
    {
      "cell_type": "code",
      "execution_count": 44,
      "id": "cdb1d231",
      "metadata": {
        "id": "cdb1d231"
      },
      "outputs": [
        {
          "data": {
            "image/png": "[encoded data removed]",
            "text/plain": [
              "<Figure size 1200x1000 with 2 Axes>"
            ]
          },
          "metadata": {},
          "output_type": "display_data"
        }
      ],
      "source": [
        "# Calcular la matriz de correlación excluyendo 'target' y 'target_cat'\n",
        "correlation_matrix = df.drop(['target', 'target_cat'], axis=1).corr()\n",
        "\n",
        "# Crear el heatmap de la matriz de correlación\n",
        "plt.figure(figsize=(12, 10))\n",
        "sns.heatmap(correlation_matrix, annot=True, cmap='coolwarm', cbar=True)\n",
        "plt.title('Matriz de correlación entre variables (excluyendo target)')\n",
        "plt.xlabel('Características')\n",
        "plt.ylabel('Características')\n",
        "plt.show()"
      ]
    },
    {
      "cell_type": "markdown",
      "id": "16071ce5",
      "metadata": {},
      "source": [
        "En la matriz de correlación observamos varias relaciones significativas entre las variables, destacando aquellas con alta correlación entre sí. \n",
        "\n",
        "Se identifican correlaciones moderadas que sugieren potencial multicolinealidad, como la relación entre `cp` (tipo de dolor en el pecho) y `exang` (angina inducida por ejercicio) con 0.38, y entre `slope` y `oldpeak` con 0.58. Estas correlaciones podrían indicar información redundante. \n",
        "\n",
        "Sin embargo, un umbral comúnmente utilizado para identificar multicolinealidad problemática es una correlación absoluta mayor a 0.7 o 0.8. En el caso específico de las correlaciones identificadas en la matriz, ninguna de estas relaciones supera el umbral de 0.7, por lo que, según este criterio general, no es necesario eliminarlas por multicolinealidad."
      ]
    },
    {
      "cell_type": "code",
      "execution_count": 39,
      "id": "d9d3909b",
      "metadata": {},
      "outputs": [
        {
          "data": {
            "image/png": "[encoded data removed]",
            "text/plain": [
              "<Figure size 1200x200 with 2 Axes>"
            ]
          },
          "metadata": {},
          "output_type": "display_data"
        }
      ],
      "source": [
        "# Calcular la correlación de 'target_cat' con las demás características\n",
        "correlation_with_target = df.corr()['target_cat'].drop(['target_cat', 'target'])\n",
        "\n",
        "# Convertir a DataFrame para la visualización en heatmap\n",
        "correlation_df = correlation_with_target.to_frame().T\n",
        "\n",
        "# Crear heatmap de las correlaciones\n",
        "plt.figure(figsize=(12, 2))\n",
        "sns.heatmap(correlation_df, annot=True, cmap='coolwarm', cbar=True)\n",
        "plt.title('Correlación de variable objetivo con las demás características')\n",
        "plt.xlabel('Características')\n",
        "plt.show()"
      ]
    },
    {
      "cell_type": "markdown",
      "id": "cf8ac2c4",
      "metadata": {},
      "source": [
        "El heatmap muestra la correlación de la variable objetivo `target_cat` con las demás características del conjunto de datos, proporcionando una visión clara de cuáles variables tienen mayor influencia en la predicción del resultado. Se destacan `thal` y `ca` como las variables con la correlación más alta (0.53 y 0.46, respectivamente), indicando una fuerte asociación con el target y sugiriendo que son características clave para el modelo predictivo. \n",
        "\n",
        "Por otro lado, `thalach` muestra una correlación negativa significativa (-0.43), lo que indica que valores altos de esta variable están asociados con un menor valor de `target_cat`. Variables como `fbs` y `chol` presentan correlaciones muy bajas (0.00019 y 0.067), sugiriendo que su influencia sobre la variable objetivo es mínima y podrían ser consideradas menos relevantes en el análisis predictivo. "
      ]
    },
    {
      "cell_type": "code",
      "execution_count": 45,
      "id": "c768f1c3",
      "metadata": {},
      "outputs": [
        {
          "data": {
            "image/png": "[encoded data removed]",
            "text/plain": [
              "<Figure size 1000x600 with 1 Axes>"
            ]
          },
          "metadata": {},
          "output_type": "display_data"
        }
      ],
      "source": [
        "# Calcular la correlación de 'target' con las demás columnas\n",
        "correlation_with_target = df.corr()['target_cat'].drop(['target_cat', 'target'])\n",
        "\n",
        "# Crear una paleta de colores basada en los valores de correlación\n",
        "norm = mcolors.TwoSlopeNorm(vmin=-1, vcenter=0, vmax=1)\n",
        "colors = plt.cm.coolwarm(norm(correlation_with_target.values))\n",
        "\n",
        "# Convertir la paleta de colores a una lista para que sea compatible\n",
        "colors_list = colors.tolist()\n",
        "\n",
        "# Visualizar la correlación de 'target' con las demás variables usando Matplotlib\n",
        "plt.figure(figsize=(10, 6))\n",
        "plt.bar(\n",
        "    x=correlation_with_target.index,\n",
        "    height=correlation_with_target.values,\n",
        "    color=colors_list\n",
        ")\n",
        "plt.title('Correlación de Target con las demás características')\n",
        "plt.xticks(rotation=90)\n",
        "plt.ylabel('Correlación')\n",
        "plt.xlabel('Características')\n",
        "plt.show()"
      ]
    },
    {
      "cell_type": "markdown",
      "id": "49ac7e19",
      "metadata": {},
      "source": [
        "En el gráfico anterior, se observa la correlación de la variable objetivo (target) con las demás características del conjunto de datos. Las variables con mayor correlación positiva con el target son cp (tipo de dolor en el pecho), thal, ca, slope y exang, todas con valores cercanos a 0.4 o superiores. Estas relaciones indican que estas variables están fuertemente asociadas con la predicción de la variable objetivo y son candidatas clave para ser incluidas en el modelo predictivo.\n",
        "\n",
        "Por otro lado, thalach (frecuencia cardíaca máxima) muestra una correlación negativa significativa, alrededor de -0.4, lo que sugiere que a medida que esta variable aumenta, la probabilidad del resultado objetivo disminuye, lo cual puede ser una característica relevante en el análisis de riesgo cardiovascular. \n",
        "\n",
        "Las demás variables, como chol, fbs y restecg, presentan correlaciones cercanas a cero, indicando que tienen un impacto mínimo en el target y podrían ser consideradas para una revisión adicional o posible eliminación del modelo si su inclusión no agrega valor predictivo."
      ]
    },
    {
      "cell_type": "markdown",
      "id": "516a65f4",
      "metadata": {},
      "source": [
        "#### Creación de dummy variables basadas en variables categóricas"
      ]
    },
    {
      "cell_type": "markdown",
      "id": "b97b6587",
      "metadata": {},
      "source": [
        "Las variables categóricas representan datos en categorías sin un orden numérico inherente, y los algoritmos de aprendizaje automático requieren datos numéricos para procesar información. \n",
        "\n",
        "Convertir directamente estas categorías en números puede llevar a interpretaciones erróneas, ya que el modelo podría asumir relaciones de magnitud que no existen. \n",
        "\n",
        "Por ello, es esencial crear variables dummy que transformen cada categoría en columnas binarias (0 o 1), indicando la presencia o ausencia de cada categoría.\n",
        "\n",
        "Al utilizar `drop_first=True` en `pd.get_dummies`, eliminamos una categoría redundante por variable, evitando la multicolinealidad y mejorando la estabilidad y eficiencia del modelo."
      ]
    },
    {
      "cell_type": "code",
      "execution_count": 16,
      "id": "f5bfab93",
      "metadata": {},
      "outputs": [],
      "source": [
        "# Definir las variables categóricas\n",
        "categorical_columns = ['sex', 'cp', 'fbs', 'restecg', 'exang', 'slope', 'thal', 'ca']\n",
        "\n",
        "# Crear variables dummy solo para las columnas categóricas\n",
        "df_clean = pd.get_dummies(df, columns=categorical_columns, drop_first=True)"
      ]
    },
    {
      "cell_type": "markdown",
      "id": "be07bab9",
      "metadata": {
        "id": "be07bab9"
      },
      "source": [
        "## Selección de modelo usando técnicas de aprendizaje supervisado\n"
      ]
    },
    {
      "cell_type": "markdown",
      "id": "cddfe6e2",
      "metadata": {},
      "source": [
        "Primero vamos a separar las características (X) de la variable objetivo (y). Luego, se divide el conjunto de datos en entrenamiento y prueba usando `train_test_split`, asegurando que el 20% de los datos se reserve para prueba y que la proporción de las clases en y se mantenga constante gracias al parámetro `stratify=y`. Esta división es crucial para evaluar el rendimiento del modelo en datos no vistos, evitando sobreajuste y asegurando una evaluación justa y reproducible del modelo."
      ]
    },
    {
      "cell_type": "code",
      "execution_count": 46,
      "id": "d397e550",
      "metadata": {},
      "outputs": [],
      "source": [
        "# Separar características (X) y la nueva variable objetivo (y)\n",
        "X = df_clean.drop(columns=['target_cat', 'target'])\n",
        "y = df_clean['target_cat']\n",
        "\n",
        "# Dividir los datos en conjunto de entrenamiento y prueba\n",
        "X_train, X_test, y_train, y_test = train_test_split(X, y, test_size=0.2, stratify=y, random_state=42)"
      ]
    },
    {
      "cell_type": "markdown",
      "id": "d740661b",
      "metadata": {
        "id": "d740661b"
      },
      "source": [
        "### Selección de características\n"
      ]
    },
    {
      "cell_type": "markdown",
      "id": "1685a8db",
      "metadata": {},
      "source": [
        "La selección de características mejora el rendimiento del modelo al eliminar variables irrelevantes, reduciendo el ruido y el riesgo de sobreajuste. Esto facilita que el modelo generalice mejor, reduce tiempos de entrenamiento y simplifica la interpretación, destacando solo las variables más influyentes en las predicciones.\n",
        "\n",
        "En esta sección vamos a usar dos tipos de selección de característica: selección hacia adelante y hacia atrás, para hacer una comparación con la métrica F1_score pues nos importan los falsos negativos dentro de este dataset."
      ]
    },
    {
      "cell_type": "markdown",
      "id": "797b95d4",
      "metadata": {},
      "source": [
        "Vamos a definir los componentes base para la creación de un modelo de clasificación binario:\n",
        "\n",
        "`models` especifica el uso de la Regresión Logística con ajuste de pesos para clases desbalanceadas\n",
        "`samplers` indica que no se aplicará ninguna técnica de muestreo por ahora\n",
        "`scalers` establece el uso de StandardScaler para estandarizar los datos\n",
        "\n",
        "Se define una función de puntuación personalizada `f1_scorer` enfocada en la métrica F1, crucial para problemas de clasificación con clases desbalanceadas. \n",
        "\n",
        "Los métodos de selección de características (feature_selection) incluyen opciones de selección hacia adelante y hacia atrás utilizando `SequentialFeatureSelector`, lo que permite refinar las características utilizadas por el modelo. \n",
        "\n",
        "Con estos componentes, se crean múltiples pipelines, evaluándolos con los datos de entrenamiento y prueba, para finalmente mostrar las métricas obtenidas, permitiendo una comparación clara del rendimiento de cada pipeline en términos de precisión y ajuste."
      ]
    },
    {
      "cell_type": "code",
      "execution_count": 48,
      "id": "a2ff3c9d",
      "metadata": {
        "id": "a2ff3c9d"
      },
      "outputs": [
        {
          "name": "stdout",
          "output_type": "stream",
          "text": [
            "Cross-Validation Metrics:\n"
          ]
        },
        {
          "data": {
            "text/html": [
              "<div>\n",
              "<style scoped>\n",
              "    .dataframe tbody tr th:only-of-type {\n",
              "        vertical-align: middle;\n",
              "    }\n",
              "\n",
              "    .dataframe tbody tr th {\n",
              "        vertical-align: top;\n",
              "    }\n",
              "\n",
              "    .dataframe thead th {\n",
              "        text-align: right;\n",
              "    }\n",
              "</style>\n",
              "<table border=\"1\" class=\"dataframe\">\n",
              "  <thead>\n",
              "    <tr style=\"text-align: right;\">\n",
              "      <th></th>\n",
              "      <th>Method</th>\n",
              "      <th>Accuracy</th>\n",
              "      <th>Precision</th>\n",
              "      <th>Recall</th>\n",
              "      <th>F1</th>\n",
              "      <th>AUC</th>\n",
              "    </tr>\n",
              "  </thead>\n",
              "  <tbody>\n",
              "    <tr>\n",
              "      <th>0</th>\n",
              "      <td>Logistic Regression - StandardScaler</td>\n",
              "      <td>0.828280</td>\n",
              "      <td>0.813096</td>\n",
              "      <td>0.828458</td>\n",
              "      <td>0.817633</td>\n",
              "      <td>0.901120</td>\n",
              "    </tr>\n",
              "    <tr>\n",
              "      <th>1</th>\n",
              "      <td>Logistic Regression - StandardScaler - Forward...</td>\n",
              "      <td>0.761170</td>\n",
              "      <td>0.728415</td>\n",
              "      <td>0.792490</td>\n",
              "      <td>0.756328</td>\n",
              "      <td>0.861203</td>\n",
              "    </tr>\n",
              "    <tr>\n",
              "      <th>2</th>\n",
              "      <td>Logistic Regression - StandardScaler - Backwar...</td>\n",
              "      <td>0.832358</td>\n",
              "      <td>0.831228</td>\n",
              "      <td>0.810672</td>\n",
              "      <td>0.816667</td>\n",
              "      <td>0.906202</td>\n",
              "    </tr>\n",
              "  </tbody>\n",
              "</table>\n",
              "</div>"
            ],
            "text/plain": [
              "                                              Method  Accuracy  Precision  \\\n",
              "0               Logistic Regression - StandardScaler  0.828280   0.813096   \n",
              "1  Logistic Regression - StandardScaler - Forward...  0.761170   0.728415   \n",
              "2  Logistic Regression - StandardScaler - Backwar...  0.832358   0.831228   \n",
              "\n",
              "     Recall        F1       AUC  \n",
              "0  0.828458  0.817633  0.901120  \n",
              "1  0.792490  0.756328  0.861203  \n",
              "2  0.810672  0.816667  0.906202  "
            ]
          },
          "metadata": {},
          "output_type": "display_data"
        },
        {
          "name": "stdout",
          "output_type": "stream",
          "text": [
            "\n",
            "Test Set Metrics:\n"
          ]
        },
        {
          "data": {
            "text/html": [
              "<div>\n",
              "<style scoped>\n",
              "    .dataframe tbody tr th:only-of-type {\n",
              "        vertical-align: middle;\n",
              "    }\n",
              "\n",
              "    .dataframe tbody tr th {\n",
              "        vertical-align: top;\n",
              "    }\n",
              "\n",
              "    .dataframe thead th {\n",
              "        text-align: right;\n",
              "    }\n",
              "</style>\n",
              "<table border=\"1\" class=\"dataframe\">\n",
              "  <thead>\n",
              "    <tr style=\"text-align: right;\">\n",
              "      <th></th>\n",
              "      <th>Method</th>\n",
              "      <th>Accuracy</th>\n",
              "      <th>Precision</th>\n",
              "      <th>Recall</th>\n",
              "      <th>F1</th>\n",
              "      <th>AUC</th>\n",
              "    </tr>\n",
              "  </thead>\n",
              "  <tbody>\n",
              "    <tr>\n",
              "      <th>0</th>\n",
              "      <td>Logistic Regression - StandardScaler</td>\n",
              "      <td>0.800000</td>\n",
              "      <td>0.833333</td>\n",
              "      <td>0.714286</td>\n",
              "      <td>0.769231</td>\n",
              "      <td>0.907366</td>\n",
              "    </tr>\n",
              "    <tr>\n",
              "      <th>1</th>\n",
              "      <td>Logistic Regression - StandardScaler - Forward...</td>\n",
              "      <td>0.766667</td>\n",
              "      <td>0.769231</td>\n",
              "      <td>0.714286</td>\n",
              "      <td>0.740741</td>\n",
              "      <td>0.856027</td>\n",
              "    </tr>\n",
              "    <tr>\n",
              "      <th>2</th>\n",
              "      <td>Logistic Regression - StandardScaler - Backwar...</td>\n",
              "      <td>0.733333</td>\n",
              "      <td>0.772727</td>\n",
              "      <td>0.607143</td>\n",
              "      <td>0.680000</td>\n",
              "      <td>0.892857</td>\n",
              "    </tr>\n",
              "  </tbody>\n",
              "</table>\n",
              "</div>"
            ],
            "text/plain": [
              "                                              Method  Accuracy  Precision  \\\n",
              "0               Logistic Regression - StandardScaler  0.800000   0.833333   \n",
              "1  Logistic Regression - StandardScaler - Forward...  0.766667   0.769231   \n",
              "2  Logistic Regression - StandardScaler - Backwar...  0.733333   0.772727   \n",
              "\n",
              "     Recall        F1       AUC  \n",
              "0  0.714286  0.769231  0.907366  \n",
              "1  0.714286  0.740741  0.856027  \n",
              "2  0.607143  0.680000  0.892857  "
            ]
          },
          "metadata": {},
          "output_type": "display_data"
        }
      ],
      "source": [
        "# Modelos\n",
        "models = {\n",
        "     'Logistic Regression': LogisticRegression(class_weight='balanced', max_iter=1000, random_state=42)\n",
        "}\n",
        "\n",
        "# Samplers\n",
        "samplers = {\n",
        "    'None': None\n",
        "}\n",
        "\n",
        "# Escaladores\n",
        "scalers = {\n",
        "    'StandardScaler': StandardScaler()\n",
        "}\n",
        "\n",
        "# Definir f1 como función de scoring\n",
        "f1_scorer = make_scorer(f1_score, zero_division=0)\n",
        "\n",
        "# Definir métodos de selección de características\n",
        "feature_selection = {\n",
        "    'None': lambda model: None,\n",
        "    'Forward Selection': lambda model: SequentialFeatureSelector(\n",
        "        estimator=model,\n",
        "        direction='forward',\n",
        "        scoring=f1_scorer,\n",
        "        n_jobs=-1\n",
        "    ),\n",
        "    'Backward Selection': lambda model: SequentialFeatureSelector(\n",
        "        estimator=model,\n",
        "        direction='backward',\n",
        "        scoring=f1_scorer,\n",
        "        n_jobs=-1\n",
        "    )\n",
        "}\n",
        "\n",
        "# Generar una pipeline para cada combinación de modelo, escalador, sampler y modelo de selección\n",
        "pipelines_list = create_pipelines(models, samplers, feature_selection, scalers)\n",
        "\n",
        "# Evaluar cada pipeline y determinar sus métricas\n",
        "results = evaluate_pipelines(X, y, pipelines_list)\n",
        "\n",
        "display_metrics(results)"
      ]
    },
    {
      "cell_type": "markdown",
      "id": "191349f1",
      "metadata": {},
      "source": [
        "Los resultados anteriores muestran las métricas de rendimiento tanto en validación cruzada como en el conjunto de prueba para diferentes configuraciones de la Regresión Logística, ya que queremos determinar el mejor conjunto de características para trabajar con el modelo. \n",
        "\n",
        "En la validación cruzada, el pipeline con la Regresión Logística utilizando StandardScaler sin selección de características obtuvo el mejor rendimiento en términos de F1-score (0.817633) y AUC (0.901120), lo cual indica un buen balance entre precisión y recall y una capacidad robusta de discriminación entre clases. \n",
        "\n",
        "En el conjunto de prueba, el modelo con StandardScaler sin selección de características logró el mejor F1-score de 0.769231. Además, el modelo con StandardScaler sin selección de características también mostró un AUC superior (0.907366), sugiriendo un mejor desempeño en la clasificación de clases positivas frente a negativas. \n",
        "\n",
        "Por lo tanto, basado en el F1-score y un desempeño superior en AUC, el mejor modelo es el que utiliza Regresión Logística con StandardScaler sin selección de características."
      ]
    },
    {
      "cell_type": "markdown",
      "id": "c0d431c0",
      "metadata": {},
      "source": [
        "### Verificar quitando características con menor número de datos"
      ]
    },
    {
      "cell_type": "markdown",
      "id": "aadea7cc",
      "metadata": {},
      "source": [
        "Ahora vamos a verificar el modelo si es que quitaramos las variables categóricas que tenían el mayor número de datos faltantes para comprobar como cambian las métricas con los mismos pipelines que anteriormente habíamos generado."
      ]
    },
    {
      "cell_type": "code",
      "execution_count": 69,
      "id": "dc98dec9",
      "metadata": {},
      "outputs": [],
      "source": [
        "# Pasos de limpieza añadiendo eliminar las características con el mayor número de datos inválidos \n",
        "\n",
        "df_2 = pd.concat([data_cleveland, data_hungarian, data_switzerland, data_va], ignore_index=True)\n",
        "\n",
        "# Reemplazar los valores '?' por NaN\n",
        "df_2.replace('?', np.nan, inplace=True)\n",
        "\n",
        "# Convertir las columnas que deben ser numéricas a tipo float (algunas están como objetos)\n",
        "df_2 = df_2.apply(pd.to_numeric, errors='coerce')\n",
        "\n",
        "# Eliminar características con mayor número de datos inválidos\n",
        "df_drop_features = df_2.drop(columns=['slope', 'ca', 'thal'])\n",
        "\n",
        "# Eliminar filas con valores nulos\n",
        "df_drop_features.dropna(inplace=True)\n",
        "\n",
        "# Crear una nueva columna 'target_cat' que sea binaria (1 si target > 0, 0 en caso contrario)\n",
        "df_drop_features['target_cat'] = df_drop_features['target'].apply(lambda x: 1 if x > 0 else 0)"
      ]
    },
    {
      "cell_type": "code",
      "execution_count": 70,
      "id": "5a4ce612",
      "metadata": {},
      "outputs": [
        {
          "name": "stdout",
          "output_type": "stream",
          "text": [
            "<class 'pandas.core.frame.DataFrame'>\n",
            "Index: 740 entries, 0 to 919\n",
            "Data columns (total 13 columns):\n",
            " #   Column      Non-Null Count  Dtype  \n",
            "---  ------      --------------  -----  \n",
            " 0   age         740 non-null    float64\n",
            " 1   sex         740 non-null    float64\n",
            " 2   cp          740 non-null    float64\n",
            " 3   trestbps    740 non-null    float64\n",
            " 4   chol        740 non-null    float64\n",
            " 5   fbs         740 non-null    float64\n",
            " 6   restecg     740 non-null    float64\n",
            " 7   thalach     740 non-null    float64\n",
            " 8   exang       740 non-null    float64\n",
            " 9   oldpeak     740 non-null    float64\n",
            " 10  target      740 non-null    int64  \n",
            " 11  location    740 non-null    int64  \n",
            " 12  target_cat  740 non-null    int64  \n",
            "dtypes: float64(10), int64(3)\n",
            "memory usage: 80.9 KB\n"
          ]
        }
      ],
      "source": [
        "df_drop_features.info()"
      ]
    },
    {
      "cell_type": "code",
      "execution_count": 73,
      "id": "87bcf583",
      "metadata": {},
      "outputs": [],
      "source": [
        "# Definir las variables categóricas que no se han eliminado\n",
        "categorical_columns_dropped = ['sex', 'cp', 'fbs', 'restecg', 'exang']\n",
        "\n",
        "# Crear variables dummy solo para las columnas categóricas\n",
        "df_clean_dropped = pd.get_dummies(df_drop_features, columns=categorical_columns_dropped, drop_first=True)\n",
        "\n",
        "X_drop_features = df_clean_dropped.drop(['target_cat', 'target'], axis=1)\n",
        "y_drop_features = df_clean_dropped['target_cat']"
      ]
    },
    {
      "cell_type": "code",
      "execution_count": 74,
      "id": "032248c3",
      "metadata": {},
      "outputs": [
        {
          "name": "stdout",
          "output_type": "stream",
          "text": [
            "Cross-Validation Metrics:\n"
          ]
        },
        {
          "data": {
            "text/html": [
              "<div>\n",
              "<style scoped>\n",
              "    .dataframe tbody tr th:only-of-type {\n",
              "        vertical-align: middle;\n",
              "    }\n",
              "\n",
              "    .dataframe tbody tr th {\n",
              "        vertical-align: top;\n",
              "    }\n",
              "\n",
              "    .dataframe thead th {\n",
              "        text-align: right;\n",
              "    }\n",
              "</style>\n",
              "<table border=\"1\" class=\"dataframe\">\n",
              "  <thead>\n",
              "    <tr style=\"text-align: right;\">\n",
              "      <th></th>\n",
              "      <th>Method</th>\n",
              "      <th>Accuracy</th>\n",
              "      <th>Precision</th>\n",
              "      <th>Recall</th>\n",
              "      <th>F1</th>\n",
              "      <th>AUC</th>\n",
              "    </tr>\n",
              "  </thead>\n",
              "  <tbody>\n",
              "    <tr>\n",
              "      <th>0</th>\n",
              "      <td>Logistic Regression - StandardScaler</td>\n",
              "      <td>0.793932</td>\n",
              "      <td>0.815862</td>\n",
              "      <td>0.780751</td>\n",
              "      <td>0.796297</td>\n",
              "      <td>0.872992</td>\n",
              "    </tr>\n",
              "    <tr>\n",
              "      <th>1</th>\n",
              "      <td>Logistic Regression - StandardScaler - Forward...</td>\n",
              "      <td>0.758425</td>\n",
              "      <td>0.750204</td>\n",
              "      <td>0.800687</td>\n",
              "      <td>0.774422</td>\n",
              "      <td>0.828561</td>\n",
              "    </tr>\n",
              "    <tr>\n",
              "      <th>2</th>\n",
              "      <td>Logistic Regression - StandardScaler - Backwar...</td>\n",
              "      <td>0.771956</td>\n",
              "      <td>0.802443</td>\n",
              "      <td>0.748017</td>\n",
              "      <td>0.771380</td>\n",
              "      <td>0.860813</td>\n",
              "    </tr>\n",
              "  </tbody>\n",
              "</table>\n",
              "</div>"
            ],
            "text/plain": [
              "                                              Method  Accuracy  Precision  \\\n",
              "0               Logistic Regression - StandardScaler  0.793932   0.815862   \n",
              "1  Logistic Regression - StandardScaler - Forward...  0.758425   0.750204   \n",
              "2  Logistic Regression - StandardScaler - Backwar...  0.771956   0.802443   \n",
              "\n",
              "     Recall        F1       AUC  \n",
              "0  0.780751  0.796297  0.872992  \n",
              "1  0.800687  0.774422  0.828561  \n",
              "2  0.748017  0.771380  0.860813  "
            ]
          },
          "metadata": {},
          "output_type": "display_data"
        },
        {
          "name": "stdout",
          "output_type": "stream",
          "text": [
            "\n",
            "Test Set Metrics:\n"
          ]
        },
        {
          "data": {
            "text/html": [
              "<div>\n",
              "<style scoped>\n",
              "    .dataframe tbody tr th:only-of-type {\n",
              "        vertical-align: middle;\n",
              "    }\n",
              "\n",
              "    .dataframe tbody tr th {\n",
              "        vertical-align: top;\n",
              "    }\n",
              "\n",
              "    .dataframe thead th {\n",
              "        text-align: right;\n",
              "    }\n",
              "</style>\n",
              "<table border=\"1\" class=\"dataframe\">\n",
              "  <thead>\n",
              "    <tr style=\"text-align: right;\">\n",
              "      <th></th>\n",
              "      <th>Method</th>\n",
              "      <th>Accuracy</th>\n",
              "      <th>Precision</th>\n",
              "      <th>Recall</th>\n",
              "      <th>F1</th>\n",
              "      <th>AUC</th>\n",
              "    </tr>\n",
              "  </thead>\n",
              "  <tbody>\n",
              "    <tr>\n",
              "      <th>0</th>\n",
              "      <td>Logistic Regression - StandardScaler</td>\n",
              "      <td>0.831081</td>\n",
              "      <td>0.825000</td>\n",
              "      <td>0.857143</td>\n",
              "      <td>0.840764</td>\n",
              "      <td>0.898665</td>\n",
              "    </tr>\n",
              "    <tr>\n",
              "      <th>1</th>\n",
              "      <td>Logistic Regression - StandardScaler - Forward...</td>\n",
              "      <td>0.804054</td>\n",
              "      <td>0.785714</td>\n",
              "      <td>0.857143</td>\n",
              "      <td>0.819876</td>\n",
              "      <td>0.884214</td>\n",
              "    </tr>\n",
              "    <tr>\n",
              "      <th>2</th>\n",
              "      <td>Logistic Regression - StandardScaler - Backwar...</td>\n",
              "      <td>0.817568</td>\n",
              "      <td>0.820513</td>\n",
              "      <td>0.831169</td>\n",
              "      <td>0.825806</td>\n",
              "      <td>0.902323</td>\n",
              "    </tr>\n",
              "  </tbody>\n",
              "</table>\n",
              "</div>"
            ],
            "text/plain": [
              "                                              Method  Accuracy  Precision  \\\n",
              "0               Logistic Regression - StandardScaler  0.831081   0.825000   \n",
              "1  Logistic Regression - StandardScaler - Forward...  0.804054   0.785714   \n",
              "2  Logistic Regression - StandardScaler - Backwar...  0.817568   0.820513   \n",
              "\n",
              "     Recall        F1       AUC  \n",
              "0  0.857143  0.840764  0.898665  \n",
              "1  0.857143  0.819876  0.884214  \n",
              "2  0.831169  0.825806  0.902323  "
            ]
          },
          "metadata": {},
          "output_type": "display_data"
        }
      ],
      "source": [
        "# Evaluar cada pipeline y determinar sus métricas\n",
        "results = evaluate_pipelines(X_drop_features, y_drop_features, pipelines_list)\n",
        "\n",
        "display_metrics(results)"
      ]
    },
    {
      "cell_type": "markdown",
      "id": "7d2ada7f",
      "metadata": {},
      "source": [
        "Falta comparar las métricas de ambos datasets y determinar con cuál nos vamos a quedar:\n",
        "\n",
        "* ¿Con cuál dataset deberiamos quedarnos el que tiene más caracteristicas pero una muestra menor o el que tiene una muestra más grande pero menos características?\n",
        "\n",
        "* ¿Con qué modelo deberíamos quedarnos sin feature selection, backward o forward?"
      ]
    },
    {
      "cell_type": "markdown",
      "id": "dbe1f047",
      "metadata": {},
      "source": [
        "Usar el conjunto de datos con 740 pacientes y menos características junto con el modelo sin selección de características. Esta combinación aprovecha la estabilidad de una muestra mayor y mantiene la potencia predictiva de un modelo que utiliza todas las características disponibles, ofreciendo un equilibrio entre precisión y capacidad de generalización."
      ]
    },
    {
      "cell_type": "markdown",
      "id": "78bba6f7",
      "metadata": {
        "id": "78bba6f7"
      },
      "source": [
        "### Validación de balanceo de clases\n"
      ]
    },
    {
      "cell_type": "code",
      "execution_count": null,
      "id": "878e5987",
      "metadata": {
        "id": "878e5987"
      },
      "outputs": [],
      "source": []
    },
    {
      "cell_type": "markdown",
      "id": "10b010ab",
      "metadata": {
        "id": "10b010ab"
      },
      "source": [
        "### Selección de modelo supervisado\n"
      ]
    },
    {
      "cell_type": "code",
      "execution_count": null,
      "id": "3cd4ed9c",
      "metadata": {
        "id": "3cd4ed9c"
      },
      "outputs": [],
      "source": []
    },
    {
      "cell_type": "markdown",
      "id": "29af8b2c",
      "metadata": {
        "id": "29af8b2c"
      },
      "source": [
        "### Ajuste de hiperparámetros del modelo\n"
      ]
    },
    {
      "cell_type": "code",
      "execution_count": null,
      "id": "186f35e2",
      "metadata": {
        "id": "186f35e2"
      },
      "outputs": [],
      "source": []
    },
    {
      "cell_type": "markdown",
      "id": "b2c1a457",
      "metadata": {
        "id": "b2c1a457"
      },
      "source": [
        "### Evaluación del modelo seleccionado\n"
      ]
    },
    {
      "cell_type": "code",
      "execution_count": null,
      "id": "944235ff",
      "metadata": {
        "id": "944235ff"
      },
      "outputs": [],
      "source": []
    },
    {
      "cell_type": "markdown",
      "id": "509c5eb9",
      "metadata": {
        "id": "509c5eb9"
      },
      "source": [
        "## Análisis de clúster con aprendizaje no supervisado\n"
      ]
    },
    {
      "cell_type": "markdown",
      "id": "2361e653",
      "metadata": {
        "id": "2361e653"
      },
      "source": [
        "### PCA\n"
      ]
    },
    {
      "cell_type": "code",
      "execution_count": null,
      "id": "991fd629",
      "metadata": {
        "id": "991fd629"
      },
      "outputs": [],
      "source": []
    },
    {
      "cell_type": "markdown",
      "id": "cf5e239c",
      "metadata": {
        "id": "cf5e239c"
      },
      "source": [
        "### Clustering\n"
      ]
    },
    {
      "cell_type": "code",
      "execution_count": null,
      "id": "5aa667b7",
      "metadata": {
        "id": "5aa667b7"
      },
      "outputs": [],
      "source": []
    }
  ],
  "metadata": {
    "colab": {
      "include_colab_link": true,
      "provenance": []
    },
    "kernelspec": {
      "display_name": "Python 3",
      "language": "python",
      "name": "python3"
    },
    "language_info": {
      "codemirror_mode": {
        "name": "ipython",
        "version": 3
      },
      "file_extension": ".py",
      "mimetype": "text/x-python",
      "name": "python",
      "nbconvert_exporter": "python",
      "pygments_lexer": "ipython3",
      "version": "3.12.2"
    }
  },
  "nbformat": 4,
  "nbformat_minor": 5
}
