{
  "cells": [
    {
      "cell_type": "markdown",
      "id": "eda3557c",
      "metadata": {
        "colab_type": "text",
        "id": "view-in-github"
      },
      "source": [
        "<a href=\"https://colab.research.google.com/github/ricardogr07/trabajo-final-aprendizaje/blob/definir_dataset/src/Analisis_ML_Workflow.ipynb\" target=\"_parent\"><img src=\"https://colab.research.google.com/assets/colab-badge.svg\" alt=\"Open In Colab\"/></a>"
      ]
    },
    {
      "cell_type": "markdown",
      "id": "7b4a5e9c",
      "metadata": {
        "id": "7b4a5e9c"
      },
      "source": [
        "# Análisis de dataset"
      ]
    },
    {
      "cell_type": "markdown",
      "id": "5ad4cb13",
      "metadata": {
        "id": "5ad4cb13"
      },
      "source": [
        "## Importar librerías"
      ]
    },
    {
      "cell_type": "code",
      "execution_count": null,
      "id": "6f4379ad",
      "metadata": {},
      "outputs": [],
      "source": [
        "%pip install pandas numpy ucimlrepo"
      ]
    },
    {
      "cell_type": "code",
      "execution_count": 1,
      "id": "113129fb",
      "metadata": {
        "id": "113129fb"
      },
      "outputs": [],
      "source": [
        "# Manipulación y análisis de datos\n",
        "import pandas as pd\n",
        "import numpy as np\n",
        "# ...."
      ]
    },
    {
      "cell_type": "code",
      "execution_count": 6,
      "id": "djsYK5dYJdGL",
      "metadata": {
        "colab": {
          "base_uri": "https://localhost:8080/"
        },
        "id": "djsYK5dYJdGL",
        "outputId": "395ce2a0-2c70-4c24-f528-6543aef77f99"
      },
      "outputs": [
        {
          "name": "stdout",
          "output_type": "stream",
          "text": [
            "Cloning into 'trabajo-final-aprendizaje'...\n",
            "remote: Enumerating objects: 19, done.\u001b[K\n",
            "remote: Counting objects: 100% (19/19), done.\u001b[K\n",
            "remote: Compressing objects: 100% (17/17), done.\u001b[K\n",
            "remote: Total 19 (delta 3), reused 13 (delta 2), pack-reused 0 (from 0)\u001b[K\n",
            "Receiving objects: 100% (19/19), 155.50 KiB | 1.54 MiB/s, done.\n",
            "Resolving deltas: 100% (3/3), done.\n",
            "/content/trabajo-final-aprendizaje/src/trabajo-final-aprendizaje/src/trabajo-final-aprendizaje/src\n"
          ]
        }
      ],
      "source": [
        "!git clone https://github.com/ricardogr07/trabajo-final-aprendizaje.git\n",
        "%cd trabajo-final-aprendizaje/src\n",
        "from evaluation_functions import create_pipelines, evaluate_pipelines, display_metrics"
      ]
    },
    {
      "cell_type": "markdown",
      "id": "06b5d69b",
      "metadata": {
        "id": "06b5d69b"
      },
      "source": [
        "## Carga y Preprocesamiento de Datos"
      ]
    },
    {
      "cell_type": "markdown",
      "id": "F4FGhHNfI1LH",
      "metadata": {
        "id": "F4FGhHNfI1LH"
      },
      "source": [
        "En esta sección se carga el conjunto de datos del archivo CSV que contiene información..."
      ]
    },
    {
      "cell_type": "markdown",
      "id": "066332bd",
      "metadata": {
        "id": "066332bd"
      },
      "source": [
        "### Carga del dataset"
      ]
    },
    {
      "cell_type": "code",
      "execution_count": 6,
      "id": "821447ce",
      "metadata": {
        "colab": {
          "base_uri": "https://localhost:8080/"
        },
        "id": "821447ce",
        "outputId": "fdef9267-9c70-4217-9aff-7a48ea9c9023"
      },
      "outputs": [
        {
          "name": "stdout",
          "output_type": "stream",
          "text": [
            "<class 'pandas.core.frame.DataFrame'>\n",
            "RangeIndex: 303 entries, 0 to 302\n",
            "Data columns (total 14 columns):\n",
            " #   Column    Non-Null Count  Dtype  \n",
            "---  ------    --------------  -----  \n",
            " 0   age       303 non-null    float64\n",
            " 1   sex       303 non-null    float64\n",
            " 2   cp        303 non-null    float64\n",
            " 3   trestbps  303 non-null    float64\n",
            " 4   chol      303 non-null    float64\n",
            " 5   fbs       303 non-null    float64\n",
            " 6   restecg   303 non-null    float64\n",
            " 7   thalach   303 non-null    float64\n",
            " 8   exang     303 non-null    float64\n",
            " 9   oldpeak   303 non-null    float64\n",
            " 10  slope     303 non-null    float64\n",
            " 11  ca        303 non-null    object \n",
            " 12  thal      303 non-null    object \n",
            " 13  target    303 non-null    int64  \n",
            "dtypes: float64(11), int64(1), object(2)\n",
            "memory usage: 33.3+ KB\n"
          ]
        }
      ],
      "source": [
        "# Cargar el dataset 1\n",
        "# https://archive.ics.uci.edu/dataset/45/heart+disease\n",
        "file_name = '../heart_disease_clevelad_data.csv'\n",
        "\n",
        "df = pd.read_csv(file_name)\n",
        "\n",
        "df.info()"
      ]
    },
    {
      "cell_type": "code",
      "execution_count": 11,
      "id": "Og97jDEgMZxc",
      "metadata": {
        "colab": {
          "base_uri": "https://localhost:8080/"
        },
        "id": "Og97jDEgMZxc",
        "outputId": "10a159e2-7614-4fbb-b702-3c276a20d97a"
      },
      "outputs": [
        {
          "name": "stdout",
          "output_type": "stream",
          "text": [
            "Credit Approval\n",
            "https://archive.ics.uci.edu/dataset/27/credit+approval\n",
            "This data concerns credit card applications; good mix of attributes\n",
            "   name     role         type demographic description units missing_values\n",
            "0   A16   Target  Categorical        None        None  None             no\n",
            "1   A15  Feature   Continuous        None        None  None             no\n",
            "2   A14  Feature   Continuous        None        None  None            yes\n",
            "3   A13  Feature  Categorical        None        None  None             no\n",
            "4   A12  Feature  Categorical        None        None  None             no\n",
            "5   A11  Feature   Continuous        None        None  None             no\n",
            "6   A10  Feature  Categorical        None        None  None             no\n",
            "7    A9  Feature  Categorical        None        None  None             no\n",
            "8    A8  Feature   Continuous        None        None  None             no\n",
            "9    A7  Feature  Categorical        None        None  None            yes\n",
            "10   A6  Feature  Categorical        None        None  None            yes\n",
            "11   A5  Feature  Categorical        None        None  None            yes\n",
            "12   A4  Feature  Categorical        None        None  None            yes\n",
            "13   A3  Feature   Continuous        None        None  None             no\n",
            "14   A2  Feature   Continuous        None        None  None            yes\n",
            "15   A1  Feature  Categorical        None        None  None            yes\n"
          ]
        }
      ],
      "source": [
        "# Cargar el dataset 2\n",
        "# https://archive.ics.uci.edu/dataset/27/credit+approval\n",
        "from ucimlrepo import fetch_ucirepo\n",
        "# fetch dataset\n",
        "credit_approval = fetch_ucirepo(id=27)\n",
        "\n",
        "# data (as pandas dataframes)\n",
        "X = credit_approval.data.features\n",
        "y = credit_approval.data.targets\n",
        "\n",
        "# metadata\n",
        "print(credit_approval.metadata.name)\n",
        "print(credit_approval.metadata.repository_url)\n",
        "print(credit_approval.metadata.abstract)\n",
        "# variable information\n",
        "print(credit_approval.variables)"
      ]
    },
    {
      "cell_type": "markdown",
      "id": "b0829e27",
      "metadata": {
        "id": "b0829e27"
      },
      "source": [
        "### Exploración inicial del dataset"
      ]
    },
    {
      "cell_type": "code",
      "execution_count": null,
      "id": "767da08d",
      "metadata": {
        "id": "767da08d"
      },
      "outputs": [],
      "source": []
    },
    {
      "cell_type": "markdown",
      "id": "1664945e",
      "metadata": {
        "id": "1664945e"
      },
      "source": [
        "### Preprocesar Datos"
      ]
    },
    {
      "cell_type": "code",
      "execution_count": null,
      "id": "2ef60c8c",
      "metadata": {
        "id": "2ef60c8c"
      },
      "outputs": [],
      "source": []
    },
    {
      "cell_type": "markdown",
      "id": "a3905ce2",
      "metadata": {
        "id": "a3905ce2"
      },
      "source": [
        "## Análisis exploratorio de datos\n"
      ]
    },
    {
      "cell_type": "code",
      "execution_count": null,
      "id": "cdb1d231",
      "metadata": {
        "id": "cdb1d231"
      },
      "outputs": [],
      "source": []
    },
    {
      "cell_type": "markdown",
      "id": "be07bab9",
      "metadata": {
        "id": "be07bab9"
      },
      "source": [
        "## Selección de modelo usando técnicas de aprendizaje supervisado\n"
      ]
    },
    {
      "cell_type": "markdown",
      "id": "d740661b",
      "metadata": {
        "id": "d740661b"
      },
      "source": [
        "### Selección de características\n"
      ]
    },
    {
      "cell_type": "code",
      "execution_count": null,
      "id": "a2ff3c9d",
      "metadata": {
        "id": "a2ff3c9d"
      },
      "outputs": [],
      "source": []
    },
    {
      "cell_type": "markdown",
      "id": "78bba6f7",
      "metadata": {
        "id": "78bba6f7"
      },
      "source": [
        "### Validación de balanceo de clases\n"
      ]
    },
    {
      "cell_type": "code",
      "execution_count": null,
      "id": "878e5987",
      "metadata": {
        "id": "878e5987"
      },
      "outputs": [],
      "source": []
    },
    {
      "cell_type": "markdown",
      "id": "10b010ab",
      "metadata": {
        "id": "10b010ab"
      },
      "source": [
        "### Selección de modelo supervisado\n"
      ]
    },
    {
      "cell_type": "code",
      "execution_count": null,
      "id": "3cd4ed9c",
      "metadata": {
        "id": "3cd4ed9c"
      },
      "outputs": [],
      "source": []
    },
    {
      "cell_type": "markdown",
      "id": "29af8b2c",
      "metadata": {
        "id": "29af8b2c"
      },
      "source": [
        "### Ajuste de hiperparámetros del modelo\n"
      ]
    },
    {
      "cell_type": "code",
      "execution_count": null,
      "id": "186f35e2",
      "metadata": {
        "id": "186f35e2"
      },
      "outputs": [],
      "source": []
    },
    {
      "cell_type": "markdown",
      "id": "b2c1a457",
      "metadata": {
        "id": "b2c1a457"
      },
      "source": [
        "### Evaluación del modelo seleccionado\n"
      ]
    },
    {
      "cell_type": "code",
      "execution_count": null,
      "id": "944235ff",
      "metadata": {
        "id": "944235ff"
      },
      "outputs": [],
      "source": []
    },
    {
      "cell_type": "markdown",
      "id": "509c5eb9",
      "metadata": {
        "id": "509c5eb9"
      },
      "source": [
        "## Análisis de clúster con aprendizaje no supervisado\n"
      ]
    },
    {
      "cell_type": "markdown",
      "id": "2361e653",
      "metadata": {
        "id": "2361e653"
      },
      "source": [
        "### PCA\n"
      ]
    },
    {
      "cell_type": "code",
      "execution_count": null,
      "id": "991fd629",
      "metadata": {
        "id": "991fd629"
      },
      "outputs": [],
      "source": []
    },
    {
      "cell_type": "markdown",
      "id": "cf5e239c",
      "metadata": {
        "id": "cf5e239c"
      },
      "source": [
        "### Clustering\n"
      ]
    },
    {
      "cell_type": "code",
      "execution_count": null,
      "id": "5aa667b7",
      "metadata": {
        "id": "5aa667b7"
      },
      "outputs": [],
      "source": []
    }
  ],
  "metadata": {
    "colab": {
      "include_colab_link": true,
      "provenance": []
    },
    "kernelspec": {
      "display_name": "Python 3",
      "language": "python",
      "name": "python3"
    },
    "language_info": {
      "codemirror_mode": {
        "name": "ipython",
        "version": 3
      },
      "file_extension": ".py",
      "mimetype": "text/x-python",
      "name": "python",
      "nbconvert_exporter": "python",
      "pygments_lexer": "ipython3",
      "version": "3.12.2"
    }
  },
  "nbformat": 4,
  "nbformat_minor": 5
}
