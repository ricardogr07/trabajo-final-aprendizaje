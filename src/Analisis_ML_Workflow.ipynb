{
  "cells": [
    {
      "cell_type": "markdown",
      "metadata": {
        "id": "view-in-github",
        "colab_type": "text"
      },
      "source": [
        "<a href=\"https://colab.research.google.com/github/ricardogr07/trabajo-final-aprendizaje/blob/main/src/Analisis_ML_Workflow.ipynb\" target=\"_parent\"><img src=\"https://colab.research.google.com/assets/colab-badge.svg\" alt=\"Open In Colab\"/></a>"
      ]
    },
    {
      "cell_type": "markdown",
      "id": "7b4a5e9c",
      "metadata": {
        "id": "7b4a5e9c"
      },
      "source": [
        "# Análisis de dataset"
      ]
    },
    {
      "cell_type": "markdown",
      "id": "5ad4cb13",
      "metadata": {
        "id": "5ad4cb13"
      },
      "source": [
        "## Importar librerías"
      ]
    },
    {
      "cell_type": "code",
      "execution_count": null,
      "id": "6f4379ad",
      "metadata": {
        "colab": {
          "base_uri": "https://localhost:8080/"
        },
        "id": "6f4379ad",
        "outputId": "bfa18ca4-1d1a-4dd4-ed80-fef929ec1d39"
      },
      "outputs": [
        {
          "name": "stdout",
          "output_type": "stream",
          "text": [
            "Requirement already satisfied: pandas in /usr/local/lib/python3.10/dist-packages (2.1.4)\n",
            "Requirement already satisfied: numpy in /usr/local/lib/python3.10/dist-packages (1.26.4)\n",
            "Requirement already satisfied: ucimlrepo in /usr/local/lib/python3.10/dist-packages (0.0.7)\n",
            "Requirement already satisfied: python-dateutil>=2.8.2 in /usr/local/lib/python3.10/dist-packages (from pandas) (2.8.2)\n",
            "Requirement already satisfied: pytz>=2020.1 in /usr/local/lib/python3.10/dist-packages (from pandas) (2024.2)\n",
            "Requirement already satisfied: tzdata>=2022.1 in /usr/local/lib/python3.10/dist-packages (from pandas) (2024.1)\n",
            "Requirement already satisfied: certifi>=2020.12.5 in /usr/local/lib/python3.10/dist-packages (from ucimlrepo) (2024.8.30)\n",
            "Requirement already satisfied: six>=1.5 in /usr/local/lib/python3.10/dist-packages (from python-dateutil>=2.8.2->pandas) (1.16.0)\n",
            "fatal: destination path 'trabajo-final-aprendizaje' already exists and is not an empty directory.\n",
            "fatal: not a git repository (or any of the parent directories): .git\n",
            "/content/trabajo-final-aprendizaje/src\n"
          ]
        }
      ],
      "source": [
        "# Correr esta celda unicamente si se hace desde Colab\n",
        "%pip install pandas numpy ucimlrepo\n",
        "\n",
        "!git clone https://github.com/ricardogr07/trabajo-final-aprendizaje.git\n",
        "%cd trabajo-final-aprendizaje/src\n",
        "from evaluation_functions import *"
      ]
    },
    {
      "cell_type": "code",
      "execution_count": null,
      "id": "113129fb",
      "metadata": {
        "id": "113129fb"
      },
      "outputs": [],
      "source": [
        "# Manipulación y análisis de datos\n",
        "import pandas as pd\n",
        "import numpy as np\n",
        "# ...."
      ]
    },
    {
      "cell_type": "markdown",
      "id": "06b5d69b",
      "metadata": {
        "id": "06b5d69b"
      },
      "source": [
        "## Carga y Preprocesamiento de Datos"
      ]
    },
    {
      "cell_type": "markdown",
      "id": "F4FGhHNfI1LH",
      "metadata": {
        "id": "F4FGhHNfI1LH"
      },
      "source": [
        "En esta sección se carga el conjunto de datos de archivos que contiene información..."
      ]
    },
    {
      "cell_type": "markdown",
      "id": "066332bd",
      "metadata": {
        "id": "066332bd"
      },
      "source": [
        "### Carga del dataset"
      ]
    },
    {
      "cell_type": "code",
      "execution_count": null,
      "id": "a6418693",
      "metadata": {
        "colab": {
          "base_uri": "https://localhost:8080/"
        },
        "id": "a6418693",
        "outputId": "3176e69f-b33e-49bd-84e0-24498f29d9a1"
      },
      "outputs": [
        {
          "name": "stdout",
          "output_type": "stream",
          "text": [
            "<class 'pandas.core.frame.DataFrame'>\n",
            "RangeIndex: 920 entries, 0 to 919\n",
            "Data columns (total 15 columns):\n",
            " #   Column    Non-Null Count  Dtype  \n",
            "---  ------    --------------  -----  \n",
            " 0   age       920 non-null    float64\n",
            " 1   sex       920 non-null    float64\n",
            " 2   cp        920 non-null    float64\n",
            " 3   trestbps  920 non-null    object \n",
            " 4   chol      920 non-null    object \n",
            " 5   fbs       920 non-null    object \n",
            " 6   restecg   920 non-null    object \n",
            " 7   thalach   920 non-null    object \n",
            " 8   exang     920 non-null    object \n",
            " 9   oldpeak   920 non-null    object \n",
            " 10  slope     920 non-null    object \n",
            " 11  ca        920 non-null    object \n",
            " 12  thal      920 non-null    object \n",
            " 13  target    920 non-null    int64  \n",
            " 14  location  920 non-null    int64  \n",
            "dtypes: float64(3), int64(2), object(10)\n",
            "memory usage: 107.9+ KB\n"
          ]
        }
      ],
      "source": [
        "cleveland_data_file_path = '../dataset/cleveland.data'\n",
        "hungarian_data_file_path = '../dataset/hungarian.data'\n",
        "switzerland_data_file_path = '../dataset/switzerland.data'\n",
        "va_data_file_path = '../dataset/va.data'\n",
        "\n",
        "column_names = ['age', 'sex', 'cp', 'trestbps', 'chol', 'fbs', 'restecg', 'thalach', 'exang', 'oldpeak', 'slope', 'ca', 'thal', 'target']\n",
        "\n",
        "# Cargar todos los datos y generar un solo dataframe\n",
        "try:\n",
        "    data_cleveland = pd.read_csv(cleveland_data_file_path, names = column_names)\n",
        "    data_hungarian = pd.read_csv(hungarian_data_file_path, names = column_names)\n",
        "    data_switzerland = pd.read_csv(switzerland_data_file_path, names = column_names)\n",
        "    data_va = pd.read_csv(va_data_file_path, names = column_names)\n",
        "\n",
        "    # Agregar location como parte de las variables\n",
        "    data_cleveland['location'] = 0\n",
        "    data_hungarian['location'] = 1\n",
        "    data_switzerland['location'] = 2\n",
        "    data_va['location'] = 3\n",
        "\n",
        "    df = pd.concat([data_cleveland, data_hungarian, data_switzerland, data_va], ignore_index=True)\n",
        "\n",
        "except Exception as e:\n",
        "    print(f\"Error reading the file: {e}\")\n",
        "\n",
        "df.info()\n"
      ]
    },
    {
      "cell_type": "markdown",
      "id": "b0829e27",
      "metadata": {
        "id": "b0829e27"
      },
      "source": [
        "### Exploración inicial del dataset"
      ]
    },
    {
      "cell_type": "code",
      "execution_count": null,
      "id": "767da08d",
      "metadata": {
        "id": "767da08d"
      },
      "outputs": [],
      "source": []
    },
    {
      "cell_type": "markdown",
      "id": "1664945e",
      "metadata": {
        "id": "1664945e"
      },
      "source": [
        "### Preprocesar Datos"
      ]
    },
    {
      "cell_type": "code",
      "execution_count": null,
      "id": "2ef60c8c",
      "metadata": {
        "id": "2ef60c8c"
      },
      "outputs": [],
      "source": []
    },
    {
      "cell_type": "markdown",
      "id": "a3905ce2",
      "metadata": {
        "id": "a3905ce2"
      },
      "source": [
        "## Análisis exploratorio de datos\n"
      ]
    },
    {
      "cell_type": "code",
      "execution_count": null,
      "id": "cdb1d231",
      "metadata": {
        "id": "cdb1d231"
      },
      "outputs": [],
      "source": []
    },
    {
      "cell_type": "markdown",
      "id": "be07bab9",
      "metadata": {
        "id": "be07bab9"
      },
      "source": [
        "## Selección de modelo usando técnicas de aprendizaje supervisado\n"
      ]
    },
    {
      "cell_type": "markdown",
      "id": "d740661b",
      "metadata": {
        "id": "d740661b"
      },
      "source": [
        "### Selección de características\n"
      ]
    },
    {
      "cell_type": "code",
      "execution_count": null,
      "id": "a2ff3c9d",
      "metadata": {
        "id": "a2ff3c9d"
      },
      "outputs": [],
      "source": []
    },
    {
      "cell_type": "markdown",
      "id": "78bba6f7",
      "metadata": {
        "id": "78bba6f7"
      },
      "source": [
        "### Validación de balanceo de clases\n"
      ]
    },
    {
      "cell_type": "code",
      "execution_count": null,
      "id": "878e5987",
      "metadata": {
        "id": "878e5987"
      },
      "outputs": [],
      "source": []
    },
    {
      "cell_type": "markdown",
      "id": "10b010ab",
      "metadata": {
        "id": "10b010ab"
      },
      "source": [
        "### Selección de modelo supervisado\n"
      ]
    },
    {
      "cell_type": "code",
      "execution_count": null,
      "id": "3cd4ed9c",
      "metadata": {
        "id": "3cd4ed9c"
      },
      "outputs": [],
      "source": []
    },
    {
      "cell_type": "markdown",
      "id": "29af8b2c",
      "metadata": {
        "id": "29af8b2c"
      },
      "source": [
        "### Ajuste de hiperparámetros del modelo\n"
      ]
    },
    {
      "cell_type": "code",
      "execution_count": null,
      "id": "186f35e2",
      "metadata": {
        "id": "186f35e2"
      },
      "outputs": [],
      "source": []
    },
    {
      "cell_type": "markdown",
      "id": "b2c1a457",
      "metadata": {
        "id": "b2c1a457"
      },
      "source": [
        "### Evaluación del modelo seleccionado\n"
      ]
    },
    {
      "cell_type": "code",
      "execution_count": null,
      "id": "944235ff",
      "metadata": {
        "id": "944235ff"
      },
      "outputs": [],
      "source": []
    },
    {
      "cell_type": "markdown",
      "id": "509c5eb9",
      "metadata": {
        "id": "509c5eb9"
      },
      "source": [
        "## Análisis de clúster con aprendizaje no supervisado\n"
      ]
    },
    {
      "cell_type": "markdown",
      "id": "2361e653",
      "metadata": {
        "id": "2361e653"
      },
      "source": [
        "### PCA\n"
      ]
    },
    {
      "cell_type": "code",
      "execution_count": null,
      "id": "991fd629",
      "metadata": {
        "id": "991fd629"
      },
      "outputs": [],
      "source": []
    },
    {
      "cell_type": "markdown",
      "id": "cf5e239c",
      "metadata": {
        "id": "cf5e239c"
      },
      "source": [
        "### Clustering\n"
      ]
    },
    {
      "cell_type": "code",
      "execution_count": null,
      "id": "5aa667b7",
      "metadata": {
        "id": "5aa667b7"
      },
      "outputs": [],
      "source": []
    }
  ],
  "metadata": {
    "colab": {
      "provenance": [],
      "include_colab_link": true
    },
    "kernelspec": {
      "display_name": "Python 3",
      "language": "python",
      "name": "python3"
    },
    "language_info": {
      "codemirror_mode": {
        "name": "ipython",
        "version": 3
      },
      "file_extension": ".py",
      "mimetype": "text/x-python",
      "name": "python",
      "nbconvert_exporter": "python",
      "pygments_lexer": "ipython3",
      "version": "3.12.2"
    }
  },
  "nbformat": 4,
  "nbformat_minor": 5
}